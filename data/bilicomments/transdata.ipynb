{
 "cells": [
  {
   "cell_type": "code",
   "execution_count": 2,
   "metadata": {},
   "outputs": [],
   "source": [
    "import json\n",
    "import re\n",
    "\n",
    "def convert_chatml(input_file, output_file):\n",
    "    samples = []\n",
    "\n",
    "    with open(input_file, 'r') as f:\n",
    "        for line in f:\n",
    "            data = json.loads(line)\n",
    "            text = data['text']\n",
    "\n",
    "            # 使用正则表达式分割文本并移除分割符号\n",
    "            parts = re.split(r'(\\bsystem\\b|\\buser\\b|\\bassistant\\b)\\n', text)\n",
    "\n",
    "            sample = {\n",
    "                \"type\": \"chatml\",\n",
    "                \"messages\": [],\n",
    "                \"source\": \"self-made\"\n",
    "            }\n",
    "\n",
    "            for i in range(1, len(parts), 2):\n",
    "                role = parts[i].strip().lower()\n",
    "                content = parts[i+1].strip().replace('\\n', '').replace('\"', '').replace('<|im_start|>', '').replace('<|im_end|>', '').strip()\n",
    "                if role in ['system', 'user', 'assistant']:\n",
    "                    sample[\"messages\"].append({\n",
    "                        \"role\": role,\n",
    "                        \"content\": content\n",
    "                    })\n",
    "\n",
    "            samples.append(sample)\n",
    "\n",
    "    # 将处理后的数据写入新的jsonl文件\n",
    "    with open(output_file, 'w') as f:\n",
    "        for sample in samples:\n",
    "            f.write(json.dumps(sample, ensure_ascii=False) + '\\n')\n",
    "\n",
    "    print(\"转换完成，文件已保存为\", output_file)\n"
   ]
  },
  {
   "cell_type": "code",
   "execution_count": 4,
   "metadata": {},
   "outputs": [
    {
     "name": "stdout",
     "output_type": "stream",
     "text": [
      "转换完成，文件已保存为 trans/train.jsonl\n"
     ]
    }
   ],
   "source": [
    "# 示例调用\n",
    "input_file = 'train.jsonl'\n",
    "output_file = 'trans/train.jsonl'\n",
    "convert_chatml(input_file, output_file)"
   ]
  },
  {
   "cell_type": "code",
   "execution_count": 5,
   "metadata": {},
   "outputs": [
    {
     "name": "stdout",
     "output_type": "stream",
     "text": [
      "转换完成，文件已保存为 trans/test.jsonl\n"
     ]
    }
   ],
   "source": [
    "input_file = 'test.jsonl'\n",
    "output_file = 'trans/test.jsonl'\n",
    "convert_chatml(input_file, output_file)"
   ]
  },
  {
   "cell_type": "code",
   "execution_count": 6,
   "metadata": {},
   "outputs": [
    {
     "name": "stdout",
     "output_type": "stream",
     "text": [
      "转换完成，文件已保存为 trans/valid.jsonl\n"
     ]
    }
   ],
   "source": [
    "input_file = 'valid.jsonl'\n",
    "output_file = 'trans/valid.jsonl'\n",
    "convert_chatml(input_file, output_file)"
   ]
  },
  {
   "cell_type": "code",
   "execution_count": null,
   "metadata": {},
   "outputs": [],
   "source": []
  }
 ],
 "metadata": {
  "kernelspec": {
   "display_name": "llm_env",
   "language": "python",
   "name": "python3"
  },
  "language_info": {
   "codemirror_mode": {
    "name": "ipython",
    "version": 3
   },
   "file_extension": ".py",
   "mimetype": "text/x-python",
   "name": "python",
   "nbconvert_exporter": "python",
   "pygments_lexer": "ipython3",
   "version": "3.11.7"
  }
 },
 "nbformat": 4,
 "nbformat_minor": 2
}
