{
 "cells": [
  {
   "cell_type": "markdown",
   "id": "f60b0387-7cdd-4e30-b2f0-a523235fe793",
   "metadata": {},
   "source": [
    "# LLaMA 3"
   ]
  },
  {
   "cell_type": "markdown",
   "id": "7262ec62-0def-434e-af59-78a412f9ef6c",
   "metadata": {},
   "source": [
    "## 加载数据集"
   ]
  },
  {
   "cell_type": "code",
   "execution_count": 3,
   "id": "632ede4e-5695-4b13-a70b-b38d7bf9a07f",
   "metadata": {},
   "outputs": [
    {
     "data": {
      "application/vnd.jupyter.widget-view+json": {
       "model_id": "dcfa81a631844e02a92aa26c99afc8b4",
       "version_major": 2,
       "version_minor": 0
      },
      "text/plain": [
       "Downloading readme:   0%|          | 0.00/882 [00:00<?, ?B/s]"
      ]
     },
     "metadata": {},
     "output_type": "display_data"
    },
    {
     "data": {
      "application/vnd.jupyter.widget-view+json": {
       "model_id": "7f9fd34742424d3a8e5ef24bda8ebd78",
       "version_major": 2,
       "version_minor": 0
      },
      "text/plain": [
       "Downloading data:   0%|          | 0.00/2.64M [00:00<?, ?B/s]"
      ]
     },
     "metadata": {},
     "output_type": "display_data"
    },
    {
     "data": {
      "application/vnd.jupyter.widget-view+json": {
       "model_id": "05502293649f418a90ba8872f1cf7925",
       "version_major": 2,
       "version_minor": 0
      },
      "text/plain": [
       "Generating train split:   0%|          | 0/3193 [00:00<?, ? examples/s]"
      ]
     },
     "metadata": {},
     "output_type": "display_data"
    }
   ],
   "source": [
    "from datasets import load_dataset\n",
    "\n",
    "dataset = load_dataset(\"neuralwork/fashion-style-instruct\")"
   ]
  },
  {
   "cell_type": "code",
   "execution_count": 4,
   "id": "cfef7156-b54f-4017-8c53-bf18b06a2cf1",
   "metadata": {},
   "outputs": [
    {
     "data": {
      "text/plain": [
       "DatasetDict({\n",
       "    train: Dataset({\n",
       "        features: ['input', 'completion', 'context'],\n",
       "        num_rows: 3193\n",
       "    })\n",
       "})"
      ]
     },
     "execution_count": 4,
     "metadata": {},
     "output_type": "execute_result"
    }
   ],
   "source": [
    "dataset"
   ]
  },
  {
   "cell_type": "code",
   "execution_count": 5,
   "id": "cf1b9533-fa28-492c-a5b6-494601669760",
   "metadata": {},
   "outputs": [
    {
     "data": {
      "text/plain": [
       "{'input': \"I'm a tall, athletic man with broad shoulders and a narrow waist. I prefer sharp, tailored suits that highlight my V-shaped torso.\",\n",
       " 'completion': 'Outfit Combination 1:\\n- Top: Fitted white linen shirt\\n- Bottom: Slim-fit beige chinos\\n- Shoe: Brown leather loafers\\n- Accessories: Brown woven belt, aviator sunglasses\\n\\nOutfit Combination 2:\\n- Top: Light blue oxford button-down shirt\\n- Bottom: Navy blue tailored trousers\\n- Shoe: Tan leather brogues\\n- Accessories: Navy blue patterned pocket square, silver wristwatch\\n\\nOutfit Combination 3:\\n- Top: Light gray tailored blazer\\n- Bottom: Dark wash denim jeans\\n- Shoe: White canvas sneakers\\n- Accessories: Black leather belt, silver pendant necklace\\n\\nOutfit Combination 4:\\n- Top: Navy blue polo shirt\\n- Bottom: Khaki shorts\\n- Shoe: Brown leather sandals\\n- Accessories: Navy blue baseball cap, woven brown bracelet\\n\\nOutfit Combination 5:\\n- Top: Light pink dress shirt (with rolled-up sleeves)\\n- Bottom: Charcoal gray dress pants\\n- Shoe: Black monk strap shoes\\n- Accessories: Black leather belt, silver tie clip',\n",
       " 'context': \"I'm going to a nature retreat.\"}"
      ]
     },
     "execution_count": 5,
     "metadata": {},
     "output_type": "execute_result"
    }
   ],
   "source": [
    "dataset[\"train\"][0]"
   ]
  },
  {
   "cell_type": "markdown",
   "id": "e825deeb-1dca-4aef-a941-7e0539bb222a",
   "metadata": {},
   "source": [
    "## 构建指令数据集"
   ]
  },
  {
   "cell_type": "code",
   "execution_count": 6,
   "id": "8b131118-9ec1-466e-8c5f-6cc4f4675c3f",
   "metadata": {},
   "outputs": [],
   "source": [
    "def format_instruction(sample) :\n",
    "    return f\"\"\"You are a personal stylist recommending fashion advice and clothing combinations. Use the self body and style description below, combined with the evert described in the context to generate 5 self-contained and complete outfit combinations.\n",
    "### Input:\n",
    "{sample[\"input\"]}\n",
    "### Context:\n",
    "{sample[\"context\" ]}\n",
    "### Response:\n",
    "{sample[\"completion\"] }\n",
    "\"\"\""
   ]
  },
  {
   "cell_type": "code",
   "execution_count": 7,
   "id": "cd8da44a-cad8-46ab-952b-a0b3943b1890",
   "metadata": {},
   "outputs": [
    {
     "name": "stdout",
     "output_type": "stream",
     "text": [
      "You are a personal stylist recommending fashion advice and clothing combinations. Use the self body and style description below, combined with the evert described in the context to generate 5 self-contained and complete outfit combinations.\n",
      "### Input:\n",
      "I'm a tall, athletic man with broad shoulders and a narrow waist. I prefer sharp, tailored suits that highlight my V-shaped torso.\n",
      "### Context:\n",
      "I'm going to a nature retreat.\n",
      "### Response:\n",
      "Outfit Combination 1:\n",
      "- Top: Fitted white linen shirt\n",
      "- Bottom: Slim-fit beige chinos\n",
      "- Shoe: Brown leather loafers\n",
      "- Accessories: Brown woven belt, aviator sunglasses\n",
      "\n",
      "Outfit Combination 2:\n",
      "- Top: Light blue oxford button-down shirt\n",
      "- Bottom: Navy blue tailored trousers\n",
      "- Shoe: Tan leather brogues\n",
      "- Accessories: Navy blue patterned pocket square, silver wristwatch\n",
      "\n",
      "Outfit Combination 3:\n",
      "- Top: Light gray tailored blazer\n",
      "- Bottom: Dark wash denim jeans\n",
      "- Shoe: White canvas sneakers\n",
      "- Accessories: Black leather belt, silver pendant necklace\n",
      "\n",
      "Outfit Combination 4:\n",
      "- Top: Navy blue polo shirt\n",
      "- Bottom: Khaki shorts\n",
      "- Shoe: Brown leather sandals\n",
      "- Accessories: Navy blue baseball cap, woven brown bracelet\n",
      "\n",
      "Outfit Combination 5:\n",
      "- Top: Light pink dress shirt (with rolled-up sleeves)\n",
      "- Bottom: Charcoal gray dress pants\n",
      "- Shoe: Black monk strap shoes\n",
      "- Accessories: Black leather belt, silver tie clip\n",
      "\n"
     ]
    }
   ],
   "source": [
    "sample = dataset[\"train\"][0]\n",
    "print(format_instruction(sample))"
   ]
  },
  {
   "cell_type": "markdown",
   "id": "264fd2bb-7e5f-43fc-b472-49871b763871",
   "metadata": {},
   "source": [
    "## 定义量化参数"
   ]
  },
  {
   "cell_type": "code",
   "execution_count": 8,
   "id": "e6ee53f4-45bb-433a-9b9a-c7ae9d11bef2",
   "metadata": {},
   "outputs": [],
   "source": [
    "import torch\n",
    "from transformers import BitsAndBytesConfig\n",
    "\n",
    "bnb_config = BitsAndBytesConfig(\n",
    "    load_in_4bit=True,\n",
    "    bnb_4bit_use_double_quant=True, \n",
    "    bnb_4bit_quant_type=\"nf4\",\n",
    "    bnb_4bit_compute_dtype=torch.bfloat16\n",
    ")"
   ]
  },
  {
   "cell_type": "markdown",
   "id": "b655fc32-81c7-4d3e-85e8-b0fa091606d2",
   "metadata": {},
   "source": [
    "## 加载预训练模型"
   ]
  },
  {
   "cell_type": "code",
   "execution_count": 9,
   "id": "fabeee89-78a0-49c7-b19d-b9df7dcf9298",
   "metadata": {},
   "outputs": [
    {
     "data": {
      "application/vnd.jupyter.widget-view+json": {
       "model_id": "47e61c30c1e6418dbfb38320636f70cc",
       "version_major": 2,
       "version_minor": 0
      },
      "text/plain": [
       "Loading checkpoint shards:   0%|          | 0/4 [00:00<?, ?it/s]"
      ]
     },
     "metadata": {},
     "output_type": "display_data"
    }
   ],
   "source": [
    "from transformers import AutoTokenizer, AutoModelForCausalLM\n",
    "\n",
    "model_id = \"meta-llama/Meta-Llama-3-8B-Instruct\"\n",
    "\n",
    "model = AutoModelForCausalLM.from_pretrained(\n",
    "    model_id,\n",
    "    quantization_config=bnb_config,\n",
    "    device_map=\"auto\"\n",
    "    )\n",
    "\n",
    "model.config.use_cache=False\n",
    "model.config.pretraining_tp = 1"
   ]
  },
  {
   "cell_type": "code",
   "execution_count": 10,
   "id": "569dec98-d13c-4393-9190-5e629438f154",
   "metadata": {},
   "outputs": [
    {
     "data": {
      "text/plain": [
       "LlamaForCausalLM(\n",
       "  (model): LlamaModel(\n",
       "    (embed_tokens): Embedding(128256, 4096)\n",
       "    (layers): ModuleList(\n",
       "      (0-31): 32 x LlamaDecoderLayer(\n",
       "        (self_attn): LlamaSdpaAttention(\n",
       "          (q_proj): Linear4bit(in_features=4096, out_features=4096, bias=False)\n",
       "          (k_proj): Linear4bit(in_features=4096, out_features=1024, bias=False)\n",
       "          (v_proj): Linear4bit(in_features=4096, out_features=1024, bias=False)\n",
       "          (o_proj): Linear4bit(in_features=4096, out_features=4096, bias=False)\n",
       "          (rotary_emb): LlamaRotaryEmbedding()\n",
       "        )\n",
       "        (mlp): LlamaMLP(\n",
       "          (gate_proj): Linear4bit(in_features=4096, out_features=14336, bias=False)\n",
       "          (up_proj): Linear4bit(in_features=4096, out_features=14336, bias=False)\n",
       "          (down_proj): Linear4bit(in_features=14336, out_features=4096, bias=False)\n",
       "          (act_fn): SiLU()\n",
       "        )\n",
       "        (input_layernorm): LlamaRMSNorm()\n",
       "        (post_attention_layernorm): LlamaRMSNorm()\n",
       "      )\n",
       "    )\n",
       "    (norm): LlamaRMSNorm()\n",
       "  )\n",
       "  (lm_head): Linear(in_features=4096, out_features=128256, bias=False)\n",
       ")"
      ]
     },
     "execution_count": 10,
     "metadata": {},
     "output_type": "execute_result"
    }
   ],
   "source": [
    "model"
   ]
  },
  {
   "cell_type": "markdown",
   "id": "fec381b3-7a9b-4974-baa6-15e2816b4c8a",
   "metadata": {},
   "source": [
    "## 加载分词器"
   ]
  },
  {
   "cell_type": "code",
   "execution_count": 16,
   "id": "65eb6eba-9846-4f2c-aee4-34b6520de303",
   "metadata": {},
   "outputs": [
    {
     "name": "stderr",
     "output_type": "stream",
     "text": [
      "Special tokens have been added in the vocabulary, make sure the associated word embeddings are fine-tuned or trained.\n"
     ]
    }
   ],
   "source": [
    "tokenizer = AutoTokenizer.from_pretrained(model_id) \n",
    "tokenizer.pad_token = tokenizer.eos_token"
   ]
  },
  {
   "cell_type": "markdown",
   "id": "441adeb4-2f08-4a12-b8d0-f41970198232",
   "metadata": {},
   "source": [
    "## 设置PEFT参数"
   ]
  },
  {
   "cell_type": "code",
   "execution_count": 17,
   "id": "5f2cc012-a302-47f4-95f9-d21d7d79a637",
   "metadata": {},
   "outputs": [],
   "source": [
    "from peft import LoraConfig\n",
    "\n",
    "peft_config = LoraConfig(\n",
    "    r=32,\n",
    "    lora_alpha=64,\n",
    "    target_modules=[\n",
    "        \"q_proj\",\n",
    "        \"k_proj\",\n",
    "        \"v_proj\",\n",
    "        \"o_proj\",\n",
    "        \"gate_proj\"\n",
    "        \"up_proj\",\n",
    "        \"down_proj\"\n",
    "        \"lm_head\",\n",
    "    ],\n",
    "    bias=\"none\",\n",
    "    lora_dropout=0.05, \n",
    "    task_type=\"CAUSAL_LM\",\n",
    ")"
   ]
  },
  {
   "cell_type": "markdown",
   "id": "2ddb45ba-9986-498d-b25d-2c3e064d11c8",
   "metadata": {},
   "source": [
    "## 构建用于训练的PEFT model"
   ]
  },
  {
   "cell_type": "code",
   "execution_count": 18,
   "id": "01827293-3b8c-4911-8564-2de340e5d23a",
   "metadata": {},
   "outputs": [],
   "source": [
    "from peft import prepare_model_for_kbit_training, get_peft_model\n",
    "\n",
    "# prepare model for training\n",
    "\n",
    "model = prepare_model_for_kbit_training(model)\n",
    "model = get_peft_model (model, peft_config)"
   ]
  },
  {
   "cell_type": "markdown",
   "id": "f02213b1-83fa-4149-ad2e-ca31e3f05b0a",
   "metadata": {},
   "source": [
    "## 打印训练参数数量"
   ]
  },
  {
   "cell_type": "code",
   "execution_count": 19,
   "id": "394689a0-c447-45e6-8eea-355267f1be21",
   "metadata": {},
   "outputs": [
    {
     "name": "stdout",
     "output_type": "stream",
     "text": [
      "trainable params: 27262976 || all params: 4567863296 || trainable%: 0.5968430803057028\n"
     ]
    }
   ],
   "source": [
    "def print_trainable_parameters(model):\n",
    "    # Prints the number of trainable parameters in the model.\n",
    "    trainable_params = 0\n",
    "    all_param = 0\n",
    "    for _, param in model.named_parameters():\n",
    "        all_param += param.numel() \n",
    "        if param. requires_grad:\n",
    "            trainable_params += param.numel()\n",
    "    print(f\"trainable params: {trainable_params} || all params: {all_param} || trainable%: {100 * trainable_params/all_param}\")\n",
    "    \n",
    "# get frozen us trainable model param statistics\n",
    "print_trainable_parameters(model)"
   ]
  },
  {
   "cell_type": "markdown",
   "id": "bd6e200a-3be9-4f9d-affb-b022e8786f48",
   "metadata": {},
   "source": [
    "## 设置训练参数"
   ]
  },
  {
   "cell_type": "code",
   "execution_count": 30,
   "id": "50a6db59-7208-4e8e-a7ca-256ae6e215c3",
   "metadata": {},
   "outputs": [],
   "source": [
    "from transformers import TrainingArguments\n",
    "\n",
    "model_args = TrainingArguments(\n",
    "    output_dir=\"llama-8b-style\",\n",
    "    num_train_epochs=3,\n",
    "    per_device_train_batch_size=4,\n",
    "    gradient_accumulation_steps=2,\n",
    "    gradient_checkpointing=True,\n",
    "    optim=\"paged_adamw_32bit\",\n",
    "    logging_steps=10,\n",
    "    save_strategy=\"epoch\",\n",
    "    learning_rate=2e-4,\n",
    "    bf16=True,\n",
    "    tf32=True,\n",
    "    max_grad_norm=0.3,\n",
    "    warmup_ratio=0.03,\n",
    "    lr_scheduler_type=\"constant\",\n",
    "    disable_tqdm=False\n",
    ")"
   ]
  },
  {
   "cell_type": "markdown",
   "id": "4cc8fef0-91ce-44f7-944b-a6026384aac2",
   "metadata": {},
   "source": [
    "## 模型微调"
   ]
  },
  {
   "cell_type": "code",
   "execution_count": 21,
   "id": "1b5f18ab-8810-416e-b650-39b63e2c2458",
   "metadata": {},
   "outputs": [
    {
     "data": {
      "application/vnd.jupyter.widget-view+json": {
       "model_id": "70ae7289631242078f322dacf2f91c36",
       "version_major": 2,
       "version_minor": 0
      },
      "text/plain": [
       "Generating train split: 0 examples [00:00, ? examples/s]"
      ]
     },
     "metadata": {},
     "output_type": "display_data"
    },
    {
     "name": "stderr",
     "output_type": "stream",
     "text": [
      "/root/miniconda3/envs/py3.10/lib/python3.10/site-packages/accelerate/accelerator.py:436: FutureWarning: Passing the following arguments to `Accelerator` is deprecated and will be removed in version 1.0 of Accelerate: dict_keys(['dispatch_batches', 'split_batches']). Please pass an `accelerate.DataLoaderConfiguration` instead: \n",
      "dataloader_config = DataLoaderConfiguration(dispatch_batches=None, split_batches=False)\n",
      "  warnings.warn(\n"
     ]
    }
   ],
   "source": [
    "from trl import SFTTrainer\n",
    "\n",
    "max_seq_length=2048\n",
    "\n",
    "# supervised Fine-Tuning Trainer\n",
    "trainer = SFTTrainer(\n",
    "    model=model,\n",
    "    train_dataset=dataset[\"train\"],\n",
    "    peft_config=peft_config,\n",
    "    max_seq_length=max_seq_length,\n",
    "    tokenizer=tokenizer,\n",
    "    packing=True,\n",
    "    formatting_func=format_instruction,\n",
    "    args=model_args,\n",
    ")"
   ]
  },
  {
   "cell_type": "code",
   "execution_count": 22,
   "id": "a026c326-7f02-4be6-af8b-66c673dfc1c4",
   "metadata": {},
   "outputs": [
    {
     "name": "stderr",
     "output_type": "stream",
     "text": [
      "/root/miniconda3/envs/py3.10/lib/python3.10/site-packages/torch/utils/checkpoint.py:429: UserWarning: torch.utils.checkpoint: please pass in use_reentrant=True or use_reentrant=False explicitly. The default value of use_reentrant will be updated to be False in the future. To maintain current behavior, pass use_reentrant=True. It is recommended that you use use_reentrant=False. Refer to docs for more details on the differences between the two variants.\n",
      "  warnings.warn(\n"
     ]
    },
    {
     "data": {
      "text/html": [
       "\n",
       "    <div>\n",
       "      \n",
       "      <progress value='324' max='324' style='width:300px; height:20px; vertical-align: middle;'></progress>\n",
       "      [324/324 1:21:44, Epoch 2/3]\n",
       "    </div>\n",
       "    <table border=\"1\" class=\"dataframe\">\n",
       "  <thead>\n",
       " <tr style=\"text-align: left;\">\n",
       "      <th>Step</th>\n",
       "      <th>Training Loss</th>\n",
       "    </tr>\n",
       "  </thead>\n",
       "  <tbody>\n",
       "    <tr>\n",
       "      <td>10</td>\n",
       "      <td>1.160500</td>\n",
       "    </tr>\n",
       "    <tr>\n",
       "      <td>20</td>\n",
       "      <td>0.915500</td>\n",
       "    </tr>\n",
       "    <tr>\n",
       "      <td>30</td>\n",
       "      <td>0.853200</td>\n",
       "    </tr>\n",
       "    <tr>\n",
       "      <td>40</td>\n",
       "      <td>0.808500</td>\n",
       "    </tr>\n",
       "    <tr>\n",
       "      <td>50</td>\n",
       "      <td>0.784600</td>\n",
       "    </tr>\n",
       "    <tr>\n",
       "      <td>60</td>\n",
       "      <td>0.739800</td>\n",
       "    </tr>\n",
       "    <tr>\n",
       "      <td>70</td>\n",
       "      <td>0.730500</td>\n",
       "    </tr>\n",
       "    <tr>\n",
       "      <td>80</td>\n",
       "      <td>0.709600</td>\n",
       "    </tr>\n",
       "    <tr>\n",
       "      <td>90</td>\n",
       "      <td>0.691800</td>\n",
       "    </tr>\n",
       "    <tr>\n",
       "      <td>100</td>\n",
       "      <td>0.682200</td>\n",
       "    </tr>\n",
       "    <tr>\n",
       "      <td>110</td>\n",
       "      <td>0.680000</td>\n",
       "    </tr>\n",
       "    <tr>\n",
       "      <td>120</td>\n",
       "      <td>0.647200</td>\n",
       "    </tr>\n",
       "    <tr>\n",
       "      <td>130</td>\n",
       "      <td>0.655700</td>\n",
       "    </tr>\n",
       "    <tr>\n",
       "      <td>140</td>\n",
       "      <td>0.645500</td>\n",
       "    </tr>\n",
       "    <tr>\n",
       "      <td>150</td>\n",
       "      <td>0.640400</td>\n",
       "    </tr>\n",
       "    <tr>\n",
       "      <td>160</td>\n",
       "      <td>0.646200</td>\n",
       "    </tr>\n",
       "    <tr>\n",
       "      <td>170</td>\n",
       "      <td>0.640900</td>\n",
       "    </tr>\n",
       "    <tr>\n",
       "      <td>180</td>\n",
       "      <td>0.636800</td>\n",
       "    </tr>\n",
       "    <tr>\n",
       "      <td>190</td>\n",
       "      <td>0.628400</td>\n",
       "    </tr>\n",
       "    <tr>\n",
       "      <td>200</td>\n",
       "      <td>0.625600</td>\n",
       "    </tr>\n",
       "    <tr>\n",
       "      <td>210</td>\n",
       "      <td>0.623800</td>\n",
       "    </tr>\n",
       "    <tr>\n",
       "      <td>220</td>\n",
       "      <td>0.616900</td>\n",
       "    </tr>\n",
       "    <tr>\n",
       "      <td>230</td>\n",
       "      <td>0.591600</td>\n",
       "    </tr>\n",
       "    <tr>\n",
       "      <td>240</td>\n",
       "      <td>0.593900</td>\n",
       "    </tr>\n",
       "    <tr>\n",
       "      <td>250</td>\n",
       "      <td>0.584400</td>\n",
       "    </tr>\n",
       "    <tr>\n",
       "      <td>260</td>\n",
       "      <td>0.602500</td>\n",
       "    </tr>\n",
       "    <tr>\n",
       "      <td>270</td>\n",
       "      <td>0.594900</td>\n",
       "    </tr>\n",
       "    <tr>\n",
       "      <td>280</td>\n",
       "      <td>0.595000</td>\n",
       "    </tr>\n",
       "    <tr>\n",
       "      <td>290</td>\n",
       "      <td>0.605700</td>\n",
       "    </tr>\n",
       "    <tr>\n",
       "      <td>300</td>\n",
       "      <td>0.594000</td>\n",
       "    </tr>\n",
       "    <tr>\n",
       "      <td>310</td>\n",
       "      <td>0.596000</td>\n",
       "    </tr>\n",
       "    <tr>\n",
       "      <td>320</td>\n",
       "      <td>0.599300</td>\n",
       "    </tr>\n",
       "  </tbody>\n",
       "</table><p>"
      ],
      "text/plain": [
       "<IPython.core.display.HTML object>"
      ]
     },
     "metadata": {},
     "output_type": "display_data"
    },
    {
     "name": "stderr",
     "output_type": "stream",
     "text": [
      "/root/miniconda3/envs/py3.10/lib/python3.10/site-packages/peft/utils/other.py:581: UserWarning: Unable to fetch remote file due to the following error 401 Client Error. (Request ID: Root=1-66229017-676100ec035167446f3adaf1;7233e48b-742b-4f18-ad2a-de333960d436)\n",
      "\n",
      "Cannot access gated repo for url https://huggingface.co/meta-llama/Meta-Llama-3-8B-Instruct/resolve/main/config.json.\n",
      "Repo model meta-llama/Meta-Llama-3-8B-Instruct is gated. You must be authenticated to access it. - silently ignoring the lookup for the file config.json in meta-llama/Meta-Llama-3-8B-Instruct.\n",
      "  warnings.warn(\n",
      "/root/miniconda3/envs/py3.10/lib/python3.10/site-packages/peft/utils/save_and_load.py:154: UserWarning: Could not find a config file in meta-llama/Meta-Llama-3-8B-Instruct - will assume that the vocabulary was not modified.\n",
      "  warnings.warn(\n",
      "/root/miniconda3/envs/py3.10/lib/python3.10/site-packages/torch/utils/checkpoint.py:429: UserWarning: torch.utils.checkpoint: please pass in use_reentrant=True or use_reentrant=False explicitly. The default value of use_reentrant will be updated to be False in the future. To maintain current behavior, pass use_reentrant=True. It is recommended that you use use_reentrant=False. Refer to docs for more details on the differences between the two variants.\n",
      "  warnings.warn(\n",
      "/root/miniconda3/envs/py3.10/lib/python3.10/site-packages/peft/utils/other.py:581: UserWarning: Unable to fetch remote file due to the following error 401 Client Error. (Request ID: Root=1-66229686-2d5683ce53a4153b67ff1df2;3b7390d1-faef-4f9a-a14c-2f0d329af7d4)\n",
      "\n",
      "Cannot access gated repo for url https://huggingface.co/meta-llama/Meta-Llama-3-8B-Instruct/resolve/main/config.json.\n",
      "Repo model meta-llama/Meta-Llama-3-8B-Instruct is gated. You must be authenticated to access it. - silently ignoring the lookup for the file config.json in meta-llama/Meta-Llama-3-8B-Instruct.\n",
      "  warnings.warn(\n",
      "/root/miniconda3/envs/py3.10/lib/python3.10/site-packages/peft/utils/save_and_load.py:154: UserWarning: Could not find a config file in meta-llama/Meta-Llama-3-8B-Instruct - will assume that the vocabulary was not modified.\n",
      "  warnings.warn(\n",
      "/root/miniconda3/envs/py3.10/lib/python3.10/site-packages/torch/utils/checkpoint.py:429: UserWarning: torch.utils.checkpoint: please pass in use_reentrant=True or use_reentrant=False explicitly. The default value of use_reentrant will be updated to be False in the future. To maintain current behavior, pass use_reentrant=True. It is recommended that you use use_reentrant=False. Refer to docs for more details on the differences between the two variants.\n",
      "  warnings.warn(\n",
      "/root/miniconda3/envs/py3.10/lib/python3.10/site-packages/peft/utils/other.py:581: UserWarning: Unable to fetch remote file due to the following error 401 Client Error. (Request ID: Root=1-66229ce2-05a773a87b115a81590ab84a;190f6b41-1ec1-4a83-bc3a-7d8ca3c75462)\n",
      "\n",
      "Cannot access gated repo for url https://huggingface.co/meta-llama/Meta-Llama-3-8B-Instruct/resolve/main/config.json.\n",
      "Repo model meta-llama/Meta-Llama-3-8B-Instruct is gated. You must be authenticated to access it. - silently ignoring the lookup for the file config.json in meta-llama/Meta-Llama-3-8B-Instruct.\n",
      "  warnings.warn(\n",
      "/root/miniconda3/envs/py3.10/lib/python3.10/site-packages/peft/utils/save_and_load.py:154: UserWarning: Could not find a config file in meta-llama/Meta-Llama-3-8B-Instruct - will assume that the vocabulary was not modified.\n",
      "  warnings.warn(\n"
     ]
    },
    {
     "data": {
      "text/plain": [
       "TrainOutput(global_step=324, training_loss=0.6775667380403589, metrics={'train_runtime': 4920.2591, 'train_samples_per_second': 0.528, 'train_steps_per_second': 0.066, 'total_flos': 2.395336904665989e+17, 'train_loss': 0.6775667380403589, 'epoch': 2.99})"
      ]
     },
     "execution_count": 22,
     "metadata": {},
     "output_type": "execute_result"
    }
   ],
   "source": [
    "trainer.train()"
   ]
  },
  {
   "cell_type": "code",
   "execution_count": 31,
   "id": "cc548950-dbff-4274-80fb-5e2918697ee8",
   "metadata": {},
   "outputs": [
    {
     "name": "stderr",
     "output_type": "stream",
     "text": [
      "/root/miniconda3/envs/py3.10/lib/python3.10/site-packages/peft/utils/other.py:581: UserWarning: Unable to fetch remote file due to the following error 401 Client Error. (Request ID: Root=1-66229d8a-719d62c27e8e45b87e1542d8;192d194a-d8ff-4ab2-8b97-ae9f8c2f11ae)\n",
      "\n",
      "Cannot access gated repo for url https://huggingface.co/meta-llama/Meta-Llama-3-8B-Instruct/resolve/main/config.json.\n",
      "Repo model meta-llama/Meta-Llama-3-8B-Instruct is gated. You must be authenticated to access it. - silently ignoring the lookup for the file config.json in meta-llama/Meta-Llama-3-8B-Instruct.\n",
      "  warnings.warn(\n",
      "/root/miniconda3/envs/py3.10/lib/python3.10/site-packages/peft/utils/save_and_load.py:154: UserWarning: Could not find a config file in meta-llama/Meta-Llama-3-8B-Instruct - will assume that the vocabulary was not modified.\n",
      "  warnings.warn(\n"
     ]
    }
   ],
   "source": [
    "trainer.save_model()"
   ]
  },
  {
   "cell_type": "markdown",
   "id": "cafd043c-b93c-4726-b12a-75e87d2cd7ce",
   "metadata": {},
   "source": [
    "# 推理"
   ]
  },
  {
   "cell_type": "code",
   "execution_count": 38,
   "id": "a15147ce-baea-4fbd-acf9-57776ccd0730",
   "metadata": {},
   "outputs": [
    {
     "name": "stdout",
     "output_type": "stream",
     "text": [
      "You are a personal stylist recommending fashion advice and clothing combinations. Use the self body and style description below, combined with the evert described in the context to generate 5 self-contained and complete outfit combinations.\n",
      "### Input:\n",
      "I'm a short, stocky woman with muscular calves and thighs. I like showing off my strong legs but need to balance my proportions on top.\n",
      "### Context:\n",
      "I'm going to a bachelorette / bachelor party.\n",
      "### Response:\n",
      "\n"
     ]
    }
   ],
   "source": [
    "from random import seed, randrange\n",
    "\n",
    "# 创建一个新的格式函数\n",
    "def format_instruction_new(sample) :\n",
    "    return f\"\"\"You are a personal stylist recommending fashion advice and clothing combinations. Use the self body and style description below, combined with the evert described in the context to generate 5 self-contained and complete outfit combinations.\n",
    "### Input:\n",
    "{sample[\"input\"]}\n",
    "### Context:\n",
    "{sample[\"context\" ]}\n",
    "### Response:\n",
    "\"\"\"\n",
    "\n",
    "# 设置种子\n",
    "seed(42)\n",
    "\n",
    "# randrange函数生成随机数\n",
    "sample = dataset[\"train\"][randrange(len(dataset['train']))]\n",
    "\n",
    "# 创建推理prompt\n",
    "prompt = format_instruction_new(sample) \n",
    "print(prompt)"
   ]
  },
  {
   "cell_type": "code",
   "execution_count": 41,
   "id": "6e551c42-0e02-4cc6-b8d0-053891ed12f1",
   "metadata": {},
   "outputs": [
    {
     "name": "stderr",
     "output_type": "stream",
     "text": [
      "The attention mask and the pad token id were not set. As a consequence, you may observe unexpected behavior. Please pass your input's `attention_mask` to obtain reliable results.\n",
      "Setting `pad_token_id` to `eos_token_id`:128001 for open-end generation.\n"
     ]
    },
    {
     "name": "stdout",
     "output_type": "stream",
     "text": [
      "Using device: cuda\n"
     ]
    }
   ],
   "source": [
    "import torch\n",
    "device = torch.device(\"cuda\" if torch.cuda.is_available() else \"cpu\")\n",
    "print(\"Using device:\", device)\n",
    "\n",
    "# 将模型转移到设备（GPU或CPU）\n",
    "trainer.model.to(device)\n",
    "\n",
    "# prompt = \"I'm a tall, athletic man with broad shoulders and a narrow waist. I prefer sharp, tailored suits that highlight my V-shaped torso.\"\n",
    "inputs = tokenizer(prompt, return_tensors=\"pt\", truncation=True)\n",
    "\n",
    "# Generate\n",
    "generate_ids = trainer.model.generate(\n",
    "    input_ids = inputs.input_ids.to(device), \n",
    "    max_new_tokens=800,\n",
    "    do_sample=True,  \n",
    "    top_p=0.9,\n",
    "    temperature=0.9\n",
    ")\n",
    "outputs = tokenizer.batch_decode(generate_ids, skip_special_tokens=True, clean_up_tokenization_spaces=False)[0]"
   ]
  },
  {
   "cell_type": "code",
   "execution_count": 42,
   "id": "3a5b9381-1148-4de2-bc7f-02edfdb350c8",
   "metadata": {},
   "outputs": [
    {
     "name": "stdout",
     "output_type": "stream",
     "text": [
      "Instruction: \n",
      "I'm a short, stocky woman with muscular calves and thighs. I like showing off my strong legs but need to balance my proportions on top.\n",
      "\n",
      "Context: \n",
      "I'm going to a bachelorette / bachelor party.\n",
      "\n",
      "Ground truth: \n",
      "Outfit Combination 1:\n",
      "- Top: A flowy, off-the-shoulder blouse in a bold color like royal blue or hot pink. The off-the-shoulder style will draw attention upward and balance your proportions.\n",
      "- Bottom: High-waisted, black leather leggings. The high-waisted cut will emphasize your waistline and flatter your figure, while the leather material adds a touch of edge to the outfit.\n",
      "- Shoe: Pair the outfit with black ankle boots with a chunky heel. The boots will elongate your legs while adding stability and comfort for a night of dancing.\n",
      "- Accessories: Add a statement necklace with colorful gemstones and a stack of silver bangle bracelets to further enhance the look.\n",
      "\n",
      "Outfit Combination 2:\n",
      "- Top: A fitted, black bodysuit with a plunging V-neckline. The fitted style will accentuate your curves and the deep V-neckline will draw attention upward and elongate your torso.\n",
      "- Bottom: A high-waisted, a-line skirt in a bold floral print. The high-waisted silhouette will cinch in your waist and the a-line shape will flatter your legs while providing movement and comfort.\n",
      "- Shoe: Opt for nude strappy sandals with a low block heel. The nude color will create the illusion of longer legs, while the low block heel will give you added height and stability.\n",
      "- Accessories: Complete the outfit with a wide-brimmed black hat and a layered gold necklace for a playful and chic touch.\n",
      "\n",
      "Outfit Combination 3:\n",
      "- Top: A tailored, cropped blazer in a neutral color like beige or gray. The cropped length will create the illusion of a longer torso, while the tailored fit will accentuate your curves.\n",
      "- Bottom: Dark wash, high-waisted skinny jeans. The high-waisted style will accentuate your waistline, while the skinny fit will showcase your toned legs.\n",
      "- Shoe: Choose a pair of black pointed-toe pumps. The pointed-toe design will elongate your legs and add a touch of sophistication to the outfit.\n",
      "- Accessories: Add a statement belt in a metallic color like gold or silver to cinch in your waist. Finish off the look with minimalistic stud earrings and a structured clutch in a complementary color.\n",
      "\n",
      "Outfit Combination 4:\n",
      "- Top: A fitted, sleeveless turtleneck in a bright color like fuchsia or emerald green. The turtleneck will elongate your neck and the fitted style will show off your toned arms.\n",
      "- Bottom: Wide-legged, high-waisted trousers in a neutral color like black or navy blue. The wide-legged silhouette will balance your proportions and create the illusion of longer legs.\n",
      "- Shoe: Opt for black platform heels. The platform heel will add height and elongate your legs without sacrificing comfort.\n",
      "- Accessories: Accessorize with oversized hoop earrings in silver or gold and a chunky cocktail ring. Add a structured clutch in a contrasting color to complete the look.\n",
      "\n",
      "Outfit Combination 5:\n",
      "- Top: A fitted, off-the-shoulder lace top in a pastel color like blush pink or lavender. The off-the-shoulder style will draw attention to your upper body and balance your proportions.\n",
      "- Bottom: High-waisted, pleated midi skirt in a metallic fabric like silver or gold. The pleated skirt will add movement and dimension to the outfit while flattering your legs.\n",
      "- Shoe: Pair the outfit with metallic strappy heels. The metallic color will complement the skirt and add a touch of glamour to the look.\n",
      "- Accessories: Complete the outfit with delicate drop earrings and a stack of dainty bracelets. Carry a small metallic clutch to match the skirt and add a final polished touch.\n",
      "\n",
      "Generated output: \n",
      "\n",
      "\n",
      "\n",
      "\n"
     ]
    }
   ],
   "source": [
    "output = outputs[0][len(prompt):]\n",
    "\n",
    "print(f\"Instruction: \\n{sample['input']}\\n\") \n",
    "print(f\"Context: \\n{sample['context']}\\n\" ) \n",
    "print(f\"Ground truth: \\n{sample['completion']}\\n\") \n",
    "print(f\"Generated output: \\n{output}\\n\\n\\n\")"
   ]
  },
  {
   "cell_type": "code",
   "execution_count": null,
   "id": "2b096498-b85b-42ec-bf23-7186a68a8801",
   "metadata": {},
   "outputs": [],
   "source": []
  }
 ],
 "metadata": {
  "kernelspec": {
   "display_name": "Python 3 (ipykernel)",
   "language": "python",
   "name": "python3"
  },
  "language_info": {
   "codemirror_mode": {
    "name": "ipython",
    "version": 3
   },
   "file_extension": ".py",
   "mimetype": "text/x-python",
   "name": "python",
   "nbconvert_exporter": "python",
   "pygments_lexer": "ipython3",
   "version": "3.10.13"
  }
 },
 "nbformat": 4,
 "nbformat_minor": 5
}
