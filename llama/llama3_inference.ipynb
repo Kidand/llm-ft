{
 "cells": [
  {
   "cell_type": "markdown",
   "id": "c307b1e5-1d4e-4fcd-b926-39ae7143c539",
   "metadata": {},
   "source": [
    "# LLaMA 3微调推理"
   ]
  },
  {
   "cell_type": "markdown",
   "id": "ec0703be-29f9-452e-8f18-380c61ed3ac8",
   "metadata": {},
   "source": [
    "## 加载预训练模型"
   ]
  },
  {
   "cell_type": "code",
   "execution_count": 1,
   "id": "e09823c5-396d-4506-b010-e9b0ed3b67d1",
   "metadata": {},
   "outputs": [
    {
     "data": {
      "application/vnd.jupyter.widget-view+json": {
       "model_id": "078e8021831e45c88ad690cbcf8ea688",
       "version_major": 2,
       "version_minor": 0
      },
      "text/plain": [
       "Loading checkpoint shards:   0%|          | 0/4 [00:00<?, ?it/s]"
      ]
     },
     "metadata": {},
     "output_type": "display_data"
    },
    {
     "name": "stderr",
     "output_type": "stream",
     "text": [
      "Special tokens have been added in the vocabulary, make sure the associated word embeddings are fine-tuned or trained.\n"
     ]
    }
   ],
   "source": [
    "import torch\n",
    "from transformers import AutoTokenizer, AutoModelForCausalLM, BitsAndBytesConfig\n",
    "\n",
    "bnb_config = BitsAndBytesConfig(\n",
    "    load_in_4bit=True,\n",
    "    bnb_4bit_use_double_quant=True, \n",
    "    bnb_4bit_quant_type=\"nf4\",\n",
    "    bnb_4bit_compute_dtype=torch.bfloat16\n",
    ")\n",
    "\n",
    "base_model_id = \"meta-llama/Meta-Llama-3-8B-Instruct\"\n",
    "\n",
    "base_model = AutoModelForCausalLM.from_pretrained(\n",
    "    base_model_id,\n",
    "    quantization_config = bnb_config,\n",
    "    device_map = \"auto\",\n",
    "    use_cache = False\n",
    "    )\n",
    "base_model.config.pretraining_tp = 1\n",
    "eval_tokenizer = AutoTokenizer.from_pretrained(base_model_id) \n",
    "eval_tokenizer.pad_token = eval_tokenizer.eos_token"
   ]
  },
  {
   "cell_type": "markdown",
   "id": "1675107d-ddab-4155-93ec-5760160445cc",
   "metadata": {},
   "source": [
    "## 合并LoRA权重"
   ]
  },
  {
   "cell_type": "code",
   "execution_count": 2,
   "id": "7471ed51-ec82-462d-8c9d-2f414d780e18",
   "metadata": {},
   "outputs": [],
   "source": [
    "from peft import PeftModel\n",
    "\n",
    "ft_model = PeftModel.from_pretrained(base_model, \"llama3-8b-style\")"
   ]
  },
  {
   "cell_type": "code",
   "execution_count": 3,
   "id": "cab1903c-54a7-4e83-94ec-136af0586597",
   "metadata": {},
   "outputs": [
    {
     "data": {
      "text/plain": [
       "PeftModelForCausalLM(\n",
       "  (base_model): LoraModel(\n",
       "    (model): LlamaForCausalLM(\n",
       "      (model): LlamaModel(\n",
       "        (embed_tokens): Embedding(128256, 4096)\n",
       "        (layers): ModuleList(\n",
       "          (0-31): 32 x LlamaDecoderLayer(\n",
       "            (self_attn): LlamaSdpaAttention(\n",
       "              (q_proj): lora.Linear4bit(\n",
       "                (base_layer): Linear4bit(in_features=4096, out_features=4096, bias=False)\n",
       "                (lora_dropout): ModuleDict(\n",
       "                  (default): Dropout(p=0.05, inplace=False)\n",
       "                )\n",
       "                (lora_A): ModuleDict(\n",
       "                  (default): Linear(in_features=4096, out_features=32, bias=False)\n",
       "                )\n",
       "                (lora_B): ModuleDict(\n",
       "                  (default): Linear(in_features=32, out_features=4096, bias=False)\n",
       "                )\n",
       "                (lora_embedding_A): ParameterDict()\n",
       "                (lora_embedding_B): ParameterDict()\n",
       "              )\n",
       "              (k_proj): lora.Linear4bit(\n",
       "                (base_layer): Linear4bit(in_features=4096, out_features=1024, bias=False)\n",
       "                (lora_dropout): ModuleDict(\n",
       "                  (default): Dropout(p=0.05, inplace=False)\n",
       "                )\n",
       "                (lora_A): ModuleDict(\n",
       "                  (default): Linear(in_features=4096, out_features=32, bias=False)\n",
       "                )\n",
       "                (lora_B): ModuleDict(\n",
       "                  (default): Linear(in_features=32, out_features=1024, bias=False)\n",
       "                )\n",
       "                (lora_embedding_A): ParameterDict()\n",
       "                (lora_embedding_B): ParameterDict()\n",
       "              )\n",
       "              (v_proj): lora.Linear4bit(\n",
       "                (base_layer): Linear4bit(in_features=4096, out_features=1024, bias=False)\n",
       "                (lora_dropout): ModuleDict(\n",
       "                  (default): Dropout(p=0.05, inplace=False)\n",
       "                )\n",
       "                (lora_A): ModuleDict(\n",
       "                  (default): Linear(in_features=4096, out_features=32, bias=False)\n",
       "                )\n",
       "                (lora_B): ModuleDict(\n",
       "                  (default): Linear(in_features=32, out_features=1024, bias=False)\n",
       "                )\n",
       "                (lora_embedding_A): ParameterDict()\n",
       "                (lora_embedding_B): ParameterDict()\n",
       "              )\n",
       "              (o_proj): lora.Linear4bit(\n",
       "                (base_layer): Linear4bit(in_features=4096, out_features=4096, bias=False)\n",
       "                (lora_dropout): ModuleDict(\n",
       "                  (default): Dropout(p=0.05, inplace=False)\n",
       "                )\n",
       "                (lora_A): ModuleDict(\n",
       "                  (default): Linear(in_features=4096, out_features=32, bias=False)\n",
       "                )\n",
       "                (lora_B): ModuleDict(\n",
       "                  (default): Linear(in_features=32, out_features=4096, bias=False)\n",
       "                )\n",
       "                (lora_embedding_A): ParameterDict()\n",
       "                (lora_embedding_B): ParameterDict()\n",
       "              )\n",
       "              (rotary_emb): LlamaRotaryEmbedding()\n",
       "            )\n",
       "            (mlp): LlamaMLP(\n",
       "              (gate_proj): Linear4bit(in_features=4096, out_features=14336, bias=False)\n",
       "              (up_proj): Linear4bit(in_features=4096, out_features=14336, bias=False)\n",
       "              (down_proj): Linear4bit(in_features=14336, out_features=4096, bias=False)\n",
       "              (act_fn): SiLU()\n",
       "            )\n",
       "            (input_layernorm): LlamaRMSNorm()\n",
       "            (post_attention_layernorm): LlamaRMSNorm()\n",
       "          )\n",
       "        )\n",
       "        (norm): LlamaRMSNorm()\n",
       "      )\n",
       "      (lm_head): Linear(in_features=4096, out_features=128256, bias=False)\n",
       "    )\n",
       "  )\n",
       ")"
      ]
     },
     "execution_count": 3,
     "metadata": {},
     "output_type": "execute_result"
    }
   ],
   "source": [
    "ft_model"
   ]
  },
  {
   "cell_type": "markdown",
   "id": "8c2ea3f4-4b16-4fe5-940d-7e7ad6113634",
   "metadata": {},
   "source": [
    "## 随机选择样本"
   ]
  },
  {
   "cell_type": "code",
   "execution_count": 4,
   "id": "71131c17-e074-4f08-aebb-41b0660735e3",
   "metadata": {},
   "outputs": [],
   "source": [
    "from datasets import load_dataset\n",
    "\n",
    "dataset = load_dataset(\"neuralwork/fashion-style-instruct\")"
   ]
  },
  {
   "cell_type": "code",
   "execution_count": 5,
   "id": "6c63ea22-0f61-4d6e-a4d2-dd7eb7f6606a",
   "metadata": {},
   "outputs": [
    {
     "name": "stdout",
     "output_type": "stream",
     "text": [
      "You are a personal stylist recommending fashion advice and clothing combinations. Use the self body and style description below, combined with the evert described in the context to generate 5 self-contained and complete outfit combinations.\n",
      "### Input:\n",
      "I'm a short, stocky woman with muscular calves and thighs. I like showing off my strong legs but need to balance my proportions on top.\n",
      "### Context:\n",
      "I'm going to a bachelorette / bachelor party.\n",
      "### Response:\n",
      "\n"
     ]
    }
   ],
   "source": [
    "from random import seed, randrange\n",
    "\n",
    "# 创建一个新的格式函数\n",
    "def format_instruction_new(sample) :\n",
    "    return f\"\"\"You are a personal stylist recommending fashion advice and clothing combinations. Use the self body and style description below, combined with the evert described in the context to generate 5 self-contained and complete outfit combinations.\n",
    "### Input:\n",
    "{sample[\"input\"]}\n",
    "### Context:\n",
    "{sample[\"context\" ]}\n",
    "### Response:\n",
    "\"\"\"\n",
    "\n",
    "# 设置种子\n",
    "seed(42)\n",
    "\n",
    "# randrange函数生成随机数\n",
    "sample = dataset[\"train\"][randrange(len(dataset['train']))]\n",
    "\n",
    "# 创建推理prompt\n",
    "prompt = format_instruction_new(sample) \n",
    "print(prompt)"
   ]
  },
  {
   "cell_type": "markdown",
   "id": "033ec647-6eb0-4118-8bef-8502d77b3190",
   "metadata": {},
   "source": [
    "## 推理"
   ]
  },
  {
   "cell_type": "code",
   "execution_count": 6,
   "id": "9120e8c7-a42d-4297-ad56-c481256f862e",
   "metadata": {},
   "outputs": [
    {
     "name": "stderr",
     "output_type": "stream",
     "text": [
      "Asking to truncate to max_length but no maximum length is provided and the model has no predefined maximum length. Default to no truncation.\n",
      "The attention mask and the pad token id were not set. As a consequence, you may observe unexpected behavior. Please pass your input's `attention_mask` to obtain reliable results.\n",
      "Setting `pad_token_id` to `eos_token_id`:128001 for open-end generation.\n"
     ]
    }
   ],
   "source": [
    "import torch\n",
    "device = \"cuda\" if torch.cuda.is_available() else \"cpu\"\n",
    "# print(\"Using device:\", device)\n",
    "\n",
    "ft_model.to(device)\n",
    "\n",
    "# tokenize input text\n",
    "input_ids = eval_tokenizer(prompt, return_tensors=\"pt\", truncation=True).input_ids.to(device)\n",
    "\n",
    "# inference, 5 outfit combinations make up around 700-750 tokens \n",
    "with torch.inference_mode():\n",
    "    outputs = ft_model.generate(\n",
    "        input_ids=input_ids, \n",
    "        max_new_tokens=800,\n",
    "        do_sample=True,  \n",
    "        top_p=0.9,\n",
    "        temperature=0.9\n",
    "    )"
   ]
  },
  {
   "cell_type": "code",
   "execution_count": 7,
   "id": "c6d45ef7-540d-4de5-a42b-f4ef9c5dcf2e",
   "metadata": {},
   "outputs": [
    {
     "data": {
      "text/plain": [
       "tensor([[ 2675,   527,   264,  4443, 67473, 65774, 11401,  9650,   323, 17895,\n",
       "         28559,    13,  5560,   279,   659,  2547,   323,  1742,  4096,  3770,\n",
       "            11, 11093,   449,   279,   384,  1653,  7633,   304,   279,  2317,\n",
       "           311,  7068,   220,    20,   659, 96324,   323,  4686, 28403, 28559,\n",
       "           627, 14711,  5688,   512,    40,  2846,   264,  2875,    11,  5708,\n",
       "            88,  5333,   449, 52192, 97310,   323, 60611,    13,   358,  1093,\n",
       "          9204,  1022,   856,  3831, 14535,   719,  1205,   311,  8335,   856,\n",
       "         49892,   389,  1948,   627, 14711,  9805,   512,    40,  2846,  2133,\n",
       "           311,   264,   293, 15113, 18673,   668,   611, 49683,  4717,   627,\n",
       "         14711,  6075,   512]], device='cuda:0')"
      ]
     },
     "execution_count": 7,
     "metadata": {},
     "output_type": "execute_result"
    }
   ],
   "source": [
    "input_ids"
   ]
  },
  {
   "cell_type": "code",
   "execution_count": 8,
   "id": "f0ce9ce6-c7de-4b70-8186-b20fdab4ba0a",
   "metadata": {},
   "outputs": [
    {
     "data": {
      "text/plain": [
       "93"
      ]
     },
     "execution_count": 8,
     "metadata": {},
     "output_type": "execute_result"
    }
   ],
   "source": [
    "len(input_ids[0])"
   ]
  },
  {
   "cell_type": "code",
   "execution_count": 9,
   "id": "6ea9bb14-60e1-4bfd-a39c-6665e3845acc",
   "metadata": {},
   "outputs": [
    {
     "data": {
      "text/plain": [
       "tensor([[  2675,    527,    264,   4443,  67473,  65774,  11401,   9650,    323,\n",
       "          17895,  28559,     13,   5560,    279,    659,   2547,    323,   1742,\n",
       "           4096,   3770,     11,  11093,    449,    279,    384,   1653,   7633,\n",
       "            304,    279,   2317,    311,   7068,    220,     20,    659,  96324,\n",
       "            323,   4686,  28403,  28559,    627,  14711,   5688,    512,     40,\n",
       "           2846,    264,   2875,     11,   5708,     88,   5333,    449,  52192,\n",
       "          97310,    323,  60611,     13,    358,   1093,   9204,   1022,    856,\n",
       "           3831,  14535,    719,   1205,    311,   8335,    856,  49892,    389,\n",
       "           1948,    627,  14711,   9805,    512,     40,   2846,   2133,    311,\n",
       "            264,    293,  15113,  18673,    668,    611,  49683,   4717,    627,\n",
       "          14711,   6075,    512,   2729,   6410,  86956,    220,     16,    512,\n",
       "             12,   7054,     25,    362,  29441,     11,   1022,  10826,     12,\n",
       "           5562,    261,  19641,   1948,    304,    264,  14265,   1933,   1093,\n",
       "           2579,    477,   4106,  18718,    311,   4128,   6666,    311,    701,\n",
       "           8582,   2547,    627,     12,  26821,     25,    362,   1579,   2695,\n",
       "             64,  13539,     11,   6530,     88,  38380,    304,    264,   2523,\n",
       "           5497,   1093,  99093,    477,  46119,    311,   1893,    264,  24770,\n",
       "          57827,    627,     12,  68181,     25,    362,   6857,    315,    610,\n",
       "          11392,  81357,    449,    264,  12143,     88,  35428,    311,  74595,\n",
       "            349,    701,  14535,    627,     12,  40819,     25,  23570,    291,\n",
       "          13272,  77688,    323,   5224,  67301,    311,    923,   1063,  96170,\n",
       "            311,    279,  28403,    382,   2729,   6410,  86956,    220,     17,\n",
       "            512,     12,   7054,     25,    362,  20784,   2269,  15154,     11,\n",
       "          61243,  21154,  36176,    304,    264,  21277,   1933,   1093,   3776,\n",
       "            477,   4251,    311,  35883,    701,   3831,   8582,   2547,    627,\n",
       "             12,  26821,     25,    362,   6857,    315,   1579,   2695,     64,\n",
       "          13539,  64905,  36876,    430,    527,  41891,    311,   5052,    701,\n",
       "          52192,  60611,   2085,   1694,   2288,  10508,    627,     12,  68181,\n",
       "             25,    362,   6857,    315,  39448,  26302,    449,    264,   8275,\n",
       "          35428,    311,    923,   2673,    323,   3160,    268,    701,  14535,\n",
       "            627,     12,  40819,     25,    362,   7029,  31217,    318,   2106,\n",
       "           9072,    323,    264,   5425,   2664,   9145,    369,    264,  58930,\n",
       "            323,  32461,   1427,    382,   2729,   6410,  86956,    220,     18,\n",
       "            512,     12,   7054,     25,    362,   6530,     88,     11,    712,\n",
       "          30132,   1122,  53161,  97045,    449,    264,   5655,    650,  96533,\n",
       "           1074,    323,    436,  43435,   3649,    311,   1893,    264,  46284,\n",
       "           1427,    627,     12,  26821,     25,    362,   6857,    315,   1579,\n",
       "           2695,     64,  13539,   7029,  62223,  25567,    304,    264,  30244,\n",
       "          13354,    311,   8335,    701,  49892,    627,     12,  68181,     25,\n",
       "            362,   6857,    315,   5452,  11077,   4282,    477,   1560,  13545,\n",
       "             81,  31355,    311,    923,   2673,    323,   1893,    264,    810,\n",
       "          74595,    660,  57827,    627,     12,  40819,     25,    362,   7029,\n",
       "          29142,  19671,    311,   8628,    331,    304,    701,  29142,    323,\n",
       "            923,   7419,     11,    323,    264,   5224,  10264,    311,    923,\n",
       "           1063,  42112,    382,   2729,   6410,  86956,    220,     19,    512,\n",
       "             12,   7054,     25,    362,  29441,     11,  61243,  13192,   1948,\n",
       "            304,    264,  34076,   1933,    477,  14265,   1194,    311,   1501,\n",
       "           1022,    701,   3831,   8582,   2547,    627,     12,  26821,     25,\n",
       "            362,   6857,    315,   1579,   2695,     64,  13539,     11,   7029,\n",
       "          62223,  11957,  49353,    304,    264,  30244,  13354,    311,   1893,\n",
       "            264,  24770,   1427,    627,     12,  68181,     25,    362,   6857,\n",
       "            315,  14618,   4791,     68,  61457,    304,    264,  46258,   6381,\n",
       "            311,    923,   1063,   2673,    323,  64543,    627,     12,  40819,\n",
       "             25,  23570,    291,  89965,    323,    264,  48494,  43789,    311,\n",
       "           4686,    279,  28403,    382,   2729,   6410,  86956,    220,     20,\n",
       "            512,     12,   7054,     25,    362,  29441,     11,  37253,   1752,\n",
       "           1069,    501,    372,   1948,    304,    264,   6573,   1933,    311,\n",
       "          30200,   6426,    701,  29142,    323,  11415,    701,   8582,   2547,\n",
       "            627,     12,  26821,     25,    362,   6857,    315,   1579,   2695,\n",
       "             64,  13539,  48777,  34389,    449,    264,   8275,  14841,    311,\n",
       "          35883,    701,  52192,  97310,    323,  60611,    627,     12,  68181,\n",
       "             25,    362,   6857,    315,  14618,   4791,     68,  43875,    304,\n",
       "            264,  21277,   1933,    311,  74595,    349,    701,  14535,    627,\n",
       "             12,  40819,     25,    362,   5224,  19671,    311,   8628,    331,\n",
       "            304,    701,  29142,    323,    264,  36301,  55547,    311,    923,\n",
       "           1063,  85536,    311,    279,   1427,    627, 128001]],\n",
       "       device='cuda:0')"
      ]
     },
     "execution_count": 9,
     "metadata": {},
     "output_type": "execute_result"
    }
   ],
   "source": [
    "outputs"
   ]
  },
  {
   "cell_type": "code",
   "execution_count": 10,
   "id": "566dc3b6-6f17-445d-9bb7-48f31180e479",
   "metadata": {},
   "outputs": [
    {
     "data": {
      "text/plain": [
       "592"
      ]
     },
     "execution_count": 10,
     "metadata": {},
     "output_type": "execute_result"
    }
   ],
   "source": [
    "len(outputs[0])"
   ]
  },
  {
   "cell_type": "code",
   "execution_count": 11,
   "id": "4a140d85-21d9-4486-aa72-5ddaa6392e18",
   "metadata": {},
   "outputs": [],
   "source": [
    "# decode token ids to text\n",
    "outputs = outputs.detach().cpu().numpy()\n",
    "\n",
    "outputs = eval_tokenizer.batch_decode(outputs, skip_special_tokens=True)"
   ]
  },
  {
   "cell_type": "code",
   "execution_count": 12,
   "id": "fd52da2c-ec5e-42fd-ae77-d377bfa43ffc",
   "metadata": {},
   "outputs": [
    {
     "data": {
      "text/plain": [
       "[\"You are a personal stylist recommending fashion advice and clothing combinations. Use the self body and style description below, combined with the evert described in the context to generate 5 self-contained and complete outfit combinations.\\n### Input:\\nI'm a short, stocky woman with muscular calves and thighs. I like showing off my strong legs but need to balance my proportions on top.\\n### Context:\\nI'm going to a bachelorette / bachelor party.\\n### Response:\\nOutfit Combination 1:\\n- Top: A fitted, off-the-shoulder crop top in a bold color like red or hot pink to draw attention to your upper body.\\n- Bottom: A high-waisted, flowy skirt in a fun pattern like leopard or floral to create a balanced silhouette.\\n- Shoe: A pair of strappy sandals with a chunky heel to elongate your legs.\\n- Accessories: Layered necklaces and statement earrings to add some sparkle to the outfit.\\n\\nOutfit Combination 2:\\n- Top: A loose-fitting, cropped graphic tee in a neutral color like black or white to showcase your strong upper body.\\n- Bottom: A pair of high-waisted denim shorts that are tailored to fit your muscular thighs without being too tight.\\n- Shoe: A pair of ankle boots with a slight heel to add height and lengthen your legs.\\n- Accessories: A wide-brimmed hat and a crossbody bag for a trendy and stylish look.\\n\\nOutfit Combination 3:\\n- Top: A flowy, bohemian-inspired blouse with a deep V-neckline and ruffled details to create a feminine look.\\n- Bottom: A pair of high-waisted wide-leg pants in a lightweight fabric to balance your proportions.\\n- Shoe: A pair of platform wedges or espadrilles to add height and create a more elongated silhouette.\\n- Accessories: A wide waist belt to cinch in your waist and add definition, and a statement ring to add some glam.\\n\\nOutfit Combination 4:\\n- Top: A fitted, cropped tank top in a vibrant color or bold print to show off your strong upper body.\\n- Bottom: A pair of high-waisted, wide-leg culottes in a lightweight fabric to create a balanced look.\\n- Shoe: A pair of pointed-toe flats in a metallic finish to add some height and elegance.\\n- Accessories: Layered bracelets and a sleek clutch to complete the outfit.\\n\\nOutfit Combination 5:\\n- Top: A fitted, sleeveless peplum top in a solid color to accentuate your waist and highlight your upper body.\\n- Bottom: A pair of high-waisted skinny jeans with a slight stretch to showcase your muscular calves and thighs.\\n- Shoe: A pair of pointed-toe pumps in a neutral color to elongate your legs.\\n- Accessories: A statement belt to cinch in your waist and a delicate necklace to add some sophistication to the look.\\n\"]"
      ]
     },
     "execution_count": 12,
     "metadata": {},
     "output_type": "execute_result"
    }
   ],
   "source": [
    "outputs"
   ]
  },
  {
   "cell_type": "code",
   "execution_count": 13,
   "id": "08c22223-3354-4989-8c4f-e1ce7b71eec1",
   "metadata": {},
   "outputs": [
    {
     "name": "stdout",
     "output_type": "stream",
     "text": [
      "Instruction: \n",
      "I'm a short, stocky woman with muscular calves and thighs. I like showing off my strong legs but need to balance my proportions on top.\n",
      "\n",
      "Context: \n",
      "I'm going to a bachelorette / bachelor party.\n",
      "\n",
      "Ground truth: \n",
      "Outfit Combination 1:\n",
      "- Top: A flowy, off-the-shoulder blouse in a bold color like royal blue or hot pink. The off-the-shoulder style will draw attention upward and balance your proportions.\n",
      "- Bottom: High-waisted, black leather leggings. The high-waisted cut will emphasize your waistline and flatter your figure, while the leather material adds a touch of edge to the outfit.\n",
      "- Shoe: Pair the outfit with black ankle boots with a chunky heel. The boots will elongate your legs while adding stability and comfort for a night of dancing.\n",
      "- Accessories: Add a statement necklace with colorful gemstones and a stack of silver bangle bracelets to further enhance the look.\n",
      "\n",
      "Outfit Combination 2:\n",
      "- Top: A fitted, black bodysuit with a plunging V-neckline. The fitted style will accentuate your curves and the deep V-neckline will draw attention upward and elongate your torso.\n",
      "- Bottom: A high-waisted, a-line skirt in a bold floral print. The high-waisted silhouette will cinch in your waist and the a-line shape will flatter your legs while providing movement and comfort.\n",
      "- Shoe: Opt for nude strappy sandals with a low block heel. The nude color will create the illusion of longer legs, while the low block heel will give you added height and stability.\n",
      "- Accessories: Complete the outfit with a wide-brimmed black hat and a layered gold necklace for a playful and chic touch.\n",
      "\n",
      "Outfit Combination 3:\n",
      "- Top: A tailored, cropped blazer in a neutral color like beige or gray. The cropped length will create the illusion of a longer torso, while the tailored fit will accentuate your curves.\n",
      "- Bottom: Dark wash, high-waisted skinny jeans. The high-waisted style will accentuate your waistline, while the skinny fit will showcase your toned legs.\n",
      "- Shoe: Choose a pair of black pointed-toe pumps. The pointed-toe design will elongate your legs and add a touch of sophistication to the outfit.\n",
      "- Accessories: Add a statement belt in a metallic color like gold or silver to cinch in your waist. Finish off the look with minimalistic stud earrings and a structured clutch in a complementary color.\n",
      "\n",
      "Outfit Combination 4:\n",
      "- Top: A fitted, sleeveless turtleneck in a bright color like fuchsia or emerald green. The turtleneck will elongate your neck and the fitted style will show off your toned arms.\n",
      "- Bottom: Wide-legged, high-waisted trousers in a neutral color like black or navy blue. The wide-legged silhouette will balance your proportions and create the illusion of longer legs.\n",
      "- Shoe: Opt for black platform heels. The platform heel will add height and elongate your legs without sacrificing comfort.\n",
      "- Accessories: Accessorize with oversized hoop earrings in silver or gold and a chunky cocktail ring. Add a structured clutch in a contrasting color to complete the look.\n",
      "\n",
      "Outfit Combination 5:\n",
      "- Top: A fitted, off-the-shoulder lace top in a pastel color like blush pink or lavender. The off-the-shoulder style will draw attention to your upper body and balance your proportions.\n",
      "- Bottom: High-waisted, pleated midi skirt in a metallic fabric like silver or gold. The pleated skirt will add movement and dimension to the outfit while flattering your legs.\n",
      "- Shoe: Pair the outfit with metallic strappy heels. The metallic color will complement the skirt and add a touch of glamour to the look.\n",
      "- Accessories: Complete the outfit with delicate drop earrings and a stack of dainty bracelets. Carry a small metallic clutch to match the skirt and add a final polished touch.\n",
      "\n",
      "Generated output: \n",
      "Outfit Combination 1:\n",
      "- Top: A fitted, off-the-shoulder crop top in a bold color like red or hot pink to draw attention to your upper body.\n",
      "- Bottom: A high-waisted, flowy skirt in a fun pattern like leopard or floral to create a balanced silhouette.\n",
      "- Shoe: A pair of strappy sandals with a chunky heel to elongate your legs.\n",
      "- Accessories: Layered necklaces and statement earrings to add some sparkle to the outfit.\n",
      "\n",
      "Outfit Combination 2:\n",
      "- Top: A loose-fitting, cropped graphic tee in a neutral color like black or white to showcase your strong upper body.\n",
      "- Bottom: A pair of high-waisted denim shorts that are tailored to fit your muscular thighs without being too tight.\n",
      "- Shoe: A pair of ankle boots with a slight heel to add height and lengthen your legs.\n",
      "- Accessories: A wide-brimmed hat and a crossbody bag for a trendy and stylish look.\n",
      "\n",
      "Outfit Combination 3:\n",
      "- Top: A flowy, bohemian-inspired blouse with a deep V-neckline and ruffled details to create a feminine look.\n",
      "- Bottom: A pair of high-waisted wide-leg pants in a lightweight fabric to balance your proportions.\n",
      "- Shoe: A pair of platform wedges or espadrilles to add height and create a more elongated silhouette.\n",
      "- Accessories: A wide waist belt to cinch in your waist and add definition, and a statement ring to add some glam.\n",
      "\n",
      "Outfit Combination 4:\n",
      "- Top: A fitted, cropped tank top in a vibrant color or bold print to show off your strong upper body.\n",
      "- Bottom: A pair of high-waisted, wide-leg culottes in a lightweight fabric to create a balanced look.\n",
      "- Shoe: A pair of pointed-toe flats in a metallic finish to add some height and elegance.\n",
      "- Accessories: Layered bracelets and a sleek clutch to complete the outfit.\n",
      "\n",
      "Outfit Combination 5:\n",
      "- Top: A fitted, sleeveless peplum top in a solid color to accentuate your waist and highlight your upper body.\n",
      "- Bottom: A pair of high-waisted skinny jeans with a slight stretch to showcase your muscular calves and thighs.\n",
      "- Shoe: A pair of pointed-toe pumps in a neutral color to elongate your legs.\n",
      "- Accessories: A statement belt to cinch in your waist and a delicate necklace to add some sophistication to the look.\n",
      "\n",
      "\n",
      "\n",
      "\n"
     ]
    }
   ],
   "source": [
    "output = outputs[0][len(prompt):]\n",
    "\n",
    "print(f\"Instruction: \\n{sample['input']}\\n\") \n",
    "print(f\"Context: \\n{sample['context']}\\n\" ) \n",
    "print(f\"Ground truth: \\n{sample['completion']}\\n\") \n",
    "print(f\"Generated output: \\n{output}\\n\\n\\n\")"
   ]
  },
  {
   "cell_type": "code",
   "execution_count": 28,
   "id": "376edf3a-646e-4e9b-a58b-658b6ee4ac7b",
   "metadata": {},
   "outputs": [
    {
     "name": "stderr",
     "output_type": "stream",
     "text": [
      "The attention mask and the pad token id were not set. As a consequence, you may observe unexpected behavior. Please pass your input's `attention_mask` to obtain reliable results.\n",
      "Setting `pad_token_id` to `eos_token_id`:128001 for open-end generation.\n"
     ]
    }
   ],
   "source": [
    "prompt = '''You are a personal stylist recommending fashion advice and clothing combinations. Use the self body and style description below, combined with the evert described in the context to generate 5 self-contained and complete outfit combinations.\n",
    "### Input:\n",
    "I am a tall man, with well-developed chest muscles and distinct abs. I like to subtly show off my abs, but not too ostentatiously.\n",
    "### Context:\n",
    "I want to attend an interview.\n",
    "### Response:'''\n",
    "inputs = eval_tokenizer(prompt, return_tensors=\"pt\")\n",
    "\n",
    "# Generate\n",
    "generate_ids = ft_model.generate(\n",
    "        input_ids=inputs.input_ids.to(device),\n",
    "        max_new_tokens=800,\n",
    "        do_sample=True,  \n",
    "        top_p=0.9,\n",
    "        temperature=0.9\n",
    "    )"
   ]
  },
  {
   "cell_type": "code",
   "execution_count": 29,
   "id": "3aaedeb9-5e30-42fc-a05a-6bd67a79f724",
   "metadata": {},
   "outputs": [],
   "source": [
    "generate_ids = generate_ids.detach().cpu().numpy()\n",
    "outputs = eval_tokenizer.batch_decode(generate_ids, skip_special_tokens=True)"
   ]
  },
  {
   "cell_type": "code",
   "execution_count": 30,
   "id": "6e9b7c1e-eb9e-49f0-99f6-4ff873761603",
   "metadata": {},
   "outputs": [
    {
     "name": "stdout",
     "output_type": "stream",
     "text": [
      "Generated output: \n",
      " \n",
      "Outfit Combination 1:\n",
      "- Top: A tailored, fitted button-down shirt in a light shade of blue. Opt for a shirt with a slightly longer length to flatter your tall frame.\n",
      "- Bottom: Pair the shirt with a pair of well-tailored, slim-fit chinos in a neutral color like charcoal or navy.\n",
      "- Shoes: Choose a classic pair of black leather oxford shoes for a professional touch.\n",
      "- Accessories: Keep it minimal with a sleek black leather belt and a sophisticated silver watch.\n",
      "\n",
      "Outfit Combination 2:\n",
      "- Top: Wear a well-fitted, crew neck t-shirt in a dark shade of gray. Opt for a shirt with a slightly longer length to emphasize your physique.\n",
      "- Bottom: Pair the t-shirt with a pair of dark wash, slim-fit jeans. Make sure they are well-tailored to elongate your legs.\n",
      "- Shoes: Opt for a pair of clean white sneakers for a modern and casual look.\n",
      "- Accessories: Add a touch of personality with a patterned or textured leather bracelet and a pair of stylish sunglasses.\n",
      "\n",
      "Outfit Combination 3:\n",
      "- Top: Opt for a classic, well-fitted blazer in a dark shade of gray or navy. Look for one with a bit of stretch for a comfortable fit.\n",
      "- Bottom: Pair the blazer with tailored trousers in a complementary color, such as charcoal or black.\n",
      "- Shoes: Choose a pair of polished leather loafers in a matching color to elevate the professional look.\n",
      "- Accessories: Add a touch of sophistication with a pocket square in a subtle pattern and a minimalist tie clip.\n",
      "\n",
      "Outfit Combination 4:\n",
      "- Top: Opt for a slim-fit, short-sleeved polo shirt in a dark shade of green. Look for one that accentuates your chest and shoulders.\n",
      "- Bottom: Pair the polo shirt with a pair of slim-fit dress pants in a neutral color, such as gray or khaki.\n",
      "- Shoes: Opt for a pair of suede desert boots in a coordinating color, like brown or tan.\n",
      "- Accessories: Add a touch of personality with a stylish leather belt and a classic wristwatch.\n",
      "\n",
      "Outfit Combination 5:\n",
      "- Top: Wear a well-fitted, button-down shirt with a subtle pattern, such as small checks or stripes. Opt for a color that complements your skin tone.\n",
      "- Bottom: Pair the shirt with a pair of tailored, flat-front trousers in a complementary color, such as dark brown or olive green.\n",
      "- Shoes: Choose a pair of polished leather dress shoes in a dark shade that matches your trousers.\n",
      "- Accessories: Add a touch of elegance with a silk tie in a coordinating color and a sleek tie bar.\n",
      "\n",
      "\n",
      "\n",
      "\n"
     ]
    }
   ],
   "source": [
    "output = outputs[0][len(prompt):]\n",
    "print(f\"Generated output: \\n{output}\\n\\n\\n\")"
   ]
  },
  {
   "cell_type": "code",
   "execution_count": null,
   "id": "e8056c83-392e-484f-bb91-5cd347a6a525",
   "metadata": {},
   "outputs": [],
   "source": []
  }
 ],
 "metadata": {
  "kernelspec": {
   "display_name": "Python 3 (ipykernel)",
   "language": "python",
   "name": "python3"
  },
  "language_info": {
   "codemirror_mode": {
    "name": "ipython",
    "version": 3
   },
   "file_extension": ".py",
   "mimetype": "text/x-python",
   "name": "python",
   "nbconvert_exporter": "python",
   "pygments_lexer": "ipython3",
   "version": "3.10.13"
  }
 },
 "nbformat": 4,
 "nbformat_minor": 5
}
