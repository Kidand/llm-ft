{
 "cells": [
  {
   "cell_type": "markdown",
   "id": "ec0703be-29f9-452e-8f18-380c61ed3ac8",
   "metadata": {},
   "source": [
    "# 加载预训练模型"
   ]
  },
  {
   "cell_type": "code",
   "execution_count": 1,
   "id": "e09823c5-396d-4506-b010-e9b0ed3b67d1",
   "metadata": {},
   "outputs": [
    {
     "data": {
      "application/vnd.jupyter.widget-view+json": {
       "model_id": "0ff9a11cf0134414863aeea48e75c305",
       "version_major": 2,
       "version_minor": 0
      },
      "text/plain": [
       "Loading checkpoint shards:   0%|          | 0/2 [00:00<?, ?it/s]"
      ]
     },
     "metadata": {},
     "output_type": "display_data"
    }
   ],
   "source": [
    "import torch\n",
    "from transformers import AutoTokenizer, AutoModelForCausalLM, BitsAndBytesConfig\n",
    "\n",
    "bnb_config = BitsAndBytesConfig(\n",
    "    load_in_4bit=True,\n",
    "    bnb_4bit_use_double_quant=True, \n",
    "    bnb_4bit_quant_type=\"nf4\",\n",
    "    bnb_4bit_compute_dtype=torch.bfloat16\n",
    ")\n",
    "\n",
    "base_model_id = \"mistralai/Mistral-7B-v0.1\"\n",
    "\n",
    "base_model = AutoModelForCausalLM.from_pretrained(\n",
    "    base_model_id,\n",
    "    quantization_config = bnb_config,\n",
    "    device_map = \"auto\",\n",
    "    use_cache = False\n",
    "    )\n",
    "base_model.config.pretraining_tp = 1\n",
    "eval_tokenizer = AutoTokenizer.from_pretrained(base_model_id) \n",
    "eval_tokenizer.pad_token = eval_tokenizer.eos_token"
   ]
  },
  {
   "cell_type": "markdown",
   "id": "1675107d-ddab-4155-93ec-5760160445cc",
   "metadata": {},
   "source": [
    "# 合并LoRA权重"
   ]
  },
  {
   "cell_type": "code",
   "execution_count": 2,
   "id": "7471ed51-ec82-462d-8c9d-2f414d780e18",
   "metadata": {},
   "outputs": [],
   "source": [
    "from peft import PeftModel\n",
    "\n",
    "ft_model = PeftModel.from_pretrained(base_model, \"mistral-7b-style/\")"
   ]
  },
  {
   "cell_type": "code",
   "execution_count": 3,
   "id": "cab1903c-54a7-4e83-94ec-136af0586597",
   "metadata": {},
   "outputs": [
    {
     "data": {
      "text/plain": [
       "PeftModelForCausalLM(\n",
       "  (base_model): LoraModel(\n",
       "    (model): MistralForCausalLM(\n",
       "      (model): MistralModel(\n",
       "        (embed_tokens): Embedding(32000, 4096)\n",
       "        (layers): ModuleList(\n",
       "          (0-31): 32 x MistralDecoderLayer(\n",
       "            (self_attn): MistralSdpaAttention(\n",
       "              (q_proj): lora.Linear4bit(\n",
       "                (base_layer): Linear4bit(in_features=4096, out_features=4096, bias=False)\n",
       "                (lora_dropout): ModuleDict(\n",
       "                  (default): Dropout(p=0.05, inplace=False)\n",
       "                )\n",
       "                (lora_A): ModuleDict(\n",
       "                  (default): Linear(in_features=4096, out_features=32, bias=False)\n",
       "                )\n",
       "                (lora_B): ModuleDict(\n",
       "                  (default): Linear(in_features=32, out_features=4096, bias=False)\n",
       "                )\n",
       "                (lora_embedding_A): ParameterDict()\n",
       "                (lora_embedding_B): ParameterDict()\n",
       "              )\n",
       "              (k_proj): lora.Linear4bit(\n",
       "                (base_layer): Linear4bit(in_features=4096, out_features=1024, bias=False)\n",
       "                (lora_dropout): ModuleDict(\n",
       "                  (default): Dropout(p=0.05, inplace=False)\n",
       "                )\n",
       "                (lora_A): ModuleDict(\n",
       "                  (default): Linear(in_features=4096, out_features=32, bias=False)\n",
       "                )\n",
       "                (lora_B): ModuleDict(\n",
       "                  (default): Linear(in_features=32, out_features=1024, bias=False)\n",
       "                )\n",
       "                (lora_embedding_A): ParameterDict()\n",
       "                (lora_embedding_B): ParameterDict()\n",
       "              )\n",
       "              (v_proj): lora.Linear4bit(\n",
       "                (base_layer): Linear4bit(in_features=4096, out_features=1024, bias=False)\n",
       "                (lora_dropout): ModuleDict(\n",
       "                  (default): Dropout(p=0.05, inplace=False)\n",
       "                )\n",
       "                (lora_A): ModuleDict(\n",
       "                  (default): Linear(in_features=4096, out_features=32, bias=False)\n",
       "                )\n",
       "                (lora_B): ModuleDict(\n",
       "                  (default): Linear(in_features=32, out_features=1024, bias=False)\n",
       "                )\n",
       "                (lora_embedding_A): ParameterDict()\n",
       "                (lora_embedding_B): ParameterDict()\n",
       "              )\n",
       "              (o_proj): lora.Linear4bit(\n",
       "                (base_layer): Linear4bit(in_features=4096, out_features=4096, bias=False)\n",
       "                (lora_dropout): ModuleDict(\n",
       "                  (default): Dropout(p=0.05, inplace=False)\n",
       "                )\n",
       "                (lora_A): ModuleDict(\n",
       "                  (default): Linear(in_features=4096, out_features=32, bias=False)\n",
       "                )\n",
       "                (lora_B): ModuleDict(\n",
       "                  (default): Linear(in_features=32, out_features=4096, bias=False)\n",
       "                )\n",
       "                (lora_embedding_A): ParameterDict()\n",
       "                (lora_embedding_B): ParameterDict()\n",
       "              )\n",
       "              (rotary_emb): MistralRotaryEmbedding()\n",
       "            )\n",
       "            (mlp): MistralMLP(\n",
       "              (gate_proj): Linear4bit(in_features=4096, out_features=14336, bias=False)\n",
       "              (up_proj): Linear4bit(in_features=4096, out_features=14336, bias=False)\n",
       "              (down_proj): Linear4bit(in_features=14336, out_features=4096, bias=False)\n",
       "              (act_fn): SiLU()\n",
       "            )\n",
       "            (input_layernorm): MistralRMSNorm()\n",
       "            (post_attention_layernorm): MistralRMSNorm()\n",
       "          )\n",
       "        )\n",
       "        (norm): MistralRMSNorm()\n",
       "      )\n",
       "      (lm_head): Linear(in_features=4096, out_features=32000, bias=False)\n",
       "    )\n",
       "  )\n",
       ")"
      ]
     },
     "execution_count": 3,
     "metadata": {},
     "output_type": "execute_result"
    }
   ],
   "source": [
    "ft_model"
   ]
  },
  {
   "cell_type": "markdown",
   "id": "8c2ea3f4-4b16-4fe5-940d-7e7ad6113634",
   "metadata": {},
   "source": [
    "# 随机选择样本"
   ]
  },
  {
   "cell_type": "code",
   "execution_count": 4,
   "id": "71131c17-e074-4f08-aebb-41b0660735e3",
   "metadata": {},
   "outputs": [],
   "source": [
    "from datasets import load_dataset\n",
    "\n",
    "dataset = load_dataset(\"neuralwork/fashion-style-instruct\")"
   ]
  },
  {
   "cell_type": "code",
   "execution_count": 5,
   "id": "6c63ea22-0f61-4d6e-a4d2-dd7eb7f6606a",
   "metadata": {},
   "outputs": [
    {
     "name": "stdout",
     "output_type": "stream",
     "text": [
      "You are a personal stylist recommending fashion advice and clothing combinations. Use the self body and style description below, combined with the evert described in the context to generate 5 self-contained and complete outfit combinations.\n",
      "### Input:\n",
      "I'm a short, stocky woman with muscular calves and thighs. I like showing off my strong legs but need to balance my proportions on top.\n",
      "### Context:\n",
      "I'm going to a bachelorette / bachelor party.\n",
      "### Response:\n",
      "\n"
     ]
    }
   ],
   "source": [
    "from random import seed, randrange\n",
    "\n",
    "# 创建一个新的格式函数\n",
    "def format_instruction_new(sample) :\n",
    "    return f\"\"\"You are a personal stylist recommending fashion advice and clothing combinations. Use the self body and style description below, combined with the evert described in the context to generate 5 self-contained and complete outfit combinations.\n",
    "### Input:\n",
    "{sample[\"input\"]}\n",
    "### Context:\n",
    "{sample[\"context\" ]}\n",
    "### Response:\n",
    "\"\"\"\n",
    "\n",
    "# 设置种子\n",
    "seed(42)\n",
    "\n",
    "# randrange函数生成随机数\n",
    "sample = dataset[\"train\"][randrange(len(dataset['train']))]\n",
    "\n",
    "# 创建推理prompt\n",
    "prompt = format_instruction_new(sample) \n",
    "print(prompt)"
   ]
  },
  {
   "cell_type": "markdown",
   "id": "033ec647-6eb0-4118-8bef-8502d77b3190",
   "metadata": {},
   "source": [
    "# 推理"
   ]
  },
  {
   "cell_type": "code",
   "execution_count": 6,
   "id": "9120e8c7-a42d-4297-ad56-c481256f862e",
   "metadata": {},
   "outputs": [
    {
     "name": "stderr",
     "output_type": "stream",
     "text": [
      "Asking to truncate to max_length but no maximum length is provided and the model has no predefined maximum length. Default to no truncation.\n",
      "The attention mask and the pad token id were not set. As a consequence, you may observe unexpected behavior. Please pass your input's `attention_mask` to obtain reliable results.\n",
      "Setting `pad_token_id` to `eos_token_id`:2 for open-end generation.\n",
      "/root/miniconda3/envs/py3.10/lib/python3.10/site-packages/transformers/generation/utils.py:1413: UserWarning: You are calling .generate() with the `input_ids` being on a device type different than your model's device. `input_ids` is on cpu, whereas the model is on cuda. You may experience unexpected behaviors or slower generation. Please make sure that you have put `input_ids` to the correct device by calling for example input_ids = input_ids.to('cuda') before running `.generate()`.\n",
      "  warnings.warn(\n"
     ]
    }
   ],
   "source": [
    "import torch\n",
    "device = \"cuda\" if torch.cuda.is_available() else \"cpu\"\n",
    "# print(\"Using device:\", device)\n",
    "\n",
    "# tokenize input text\n",
    "input_ids = eval_tokenizer(prompt, return_tensors=\"pt\", truncation=True).input_ids\n",
    "\n",
    "# inference, 5 outfit combinations make up around 700-750 tokens \n",
    "with torch.inference_mode():\n",
    "    outputs = ft_model.generate(\n",
    "        input_ids=input_ids, \n",
    "        max_new_tokens=800,\n",
    "        do_sample=True,  \n",
    "        top_p=0.9,\n",
    "        temperature=0.9\n",
    "    )"
   ]
  },
  {
   "cell_type": "code",
   "execution_count": 7,
   "id": "c6d45ef7-540d-4de5-a42b-f4ef9c5dcf2e",
   "metadata": {},
   "outputs": [
    {
     "data": {
      "text/plain": [
       "tensor([[    1,   995,   460,   264,  3327, 10176,  1703,  4626,  2570,  8844,\n",
       "          7478,   304, 13278, 26350, 28723,  5938,   272,  1008,  2187,   304,\n",
       "          3238,  5436,  3624, 28725,  9837,   395,   272,   317,  2035,  5397,\n",
       "           297,   272,  2758,   298,  8270, 28705, 28782,  1008, 28733,  1399,\n",
       "          1738,   304,  4160, 24842, 26350, 28723,    13, 27332, 11232, 28747,\n",
       "            13, 28737, 28742, 28719,   264,  2485, 28725,  5756, 28724,  2971,\n",
       "           395,  2009, 12723,  2300,  1855,   304, 21745, 28713, 28723,   315,\n",
       "           737,  8102,   805,   586,  2967,  7969,   562,   927,   298,  7873,\n",
       "           586, 12687,   594,   356,  1830, 28723,    13, 27332, 14268, 28747,\n",
       "            13, 28737, 28742, 28719,  1404,   298,   264,   287, 14047, 11007,\n",
       "           424,   732,   287, 18753,  4150, 28723,    13, 27332, 12107, 28747,\n",
       "            13]])"
      ]
     },
     "execution_count": 7,
     "metadata": {},
     "output_type": "execute_result"
    }
   ],
   "source": [
    "input_ids"
   ]
  },
  {
   "cell_type": "code",
   "execution_count": 8,
   "id": "f0ce9ce6-c7de-4b70-8186-b20fdab4ba0a",
   "metadata": {},
   "outputs": [
    {
     "data": {
      "text/plain": [
       "111"
      ]
     },
     "execution_count": 8,
     "metadata": {},
     "output_type": "execute_result"
    }
   ],
   "source": [
    "len(input_ids[0])"
   ]
  },
  {
   "cell_type": "code",
   "execution_count": 9,
   "id": "6ea9bb14-60e1-4bfd-a39c-6665e3845acc",
   "metadata": {},
   "outputs": [
    {
     "data": {
      "text/plain": [
       "tensor([[    1,   995,   460,   264,  3327, 10176,  1703,  4626,  2570,  8844,\n",
       "          7478,   304, 13278, 26350, 28723,  5938,   272,  1008,  2187,   304,\n",
       "          3238,  5436,  3624, 28725,  9837,   395,   272,   317,  2035,  5397,\n",
       "           297,   272,  2758,   298,  8270, 28705, 28782,  1008, 28733,  1399,\n",
       "          1738,   304,  4160, 24842, 26350, 28723,    13, 27332, 11232, 28747,\n",
       "            13, 28737, 28742, 28719,   264,  2485, 28725,  5756, 28724,  2971,\n",
       "           395,  2009, 12723,  2300,  1855,   304, 21745, 28713, 28723,   315,\n",
       "           737,  8102,   805,   586,  2967,  7969,   562,   927,   298,  7873,\n",
       "           586, 12687,   594,   356,  1830, 28723,    13, 27332, 14268, 28747,\n",
       "            13, 28737, 28742, 28719,  1404,   298,   264,   287, 14047, 11007,\n",
       "           424,   732,   287, 18753,  4150, 28723,    13, 27332, 12107, 28747,\n",
       "            13,  2919,  7785, 19422,  2235, 28705, 28740, 28747,    13, 28733,\n",
       "          6611, 28747,   330, 21163, 28725,  7767,  3443,   409, 21948,  1830,\n",
       "           297,   264, 13546,   440,  3181,   737,   285,   903, 28713,   515,\n",
       "           442, 13753,  5045, 28723,   851,   622,  3924,  4501,   298,   574,\n",
       "          7280,  2187, 28723,    13, 28733,   365,  3757, 28747,  4556, 28733,\n",
       "          4985,  7134,  2687,  4759,  1780, 21576,   298, 19440, 11931,   574,\n",
       "         17532,   304,  2231,   264,  4454, 14445,   913, 28723,    13, 28733,\n",
       "          1295,  3679, 28747,  4777,   396, 16993,  1117,   377, 22822,   298,\n",
       "           639,   566,   380,   574,  7969,   304,   967,   264,  4814,   302,\n",
       "         12999,   617, 28723,    13, 28733, 11559,  2420, 28747,   367,   992,\n",
       "           272, 24842,   395,   741,   281,   602,  1905,  8120, 26661,   304,\n",
       "           264,  6251, 27883,   297,   264, 16696,   628,  3181, 28723,    13,\n",
       "            13,  2919,  7785, 19422,  2235, 28705, 28750, 28747,    13, 28733,\n",
       "          6611, 28747,   330,  4699, 28724, 28725,   805, 28733,  1237, 28733,\n",
       "          6716,   263,   843,  1284,   297,   264,   746,  5340,   442, 15860,\n",
       "          2682, 28723,   851,   622,  2231,   264,  1717,  1323, 19971,   913,\n",
       "         28723,    13, 28733,   365,  3757, 28747,  4556, 28733,  4985,  7134,\n",
       "          2687,  5335, 28733,  1946,   467,   607,   404,   298,   639,   566,\n",
       "           380,   574,  7969,   304,  2111,   264,   680, 18788,   363, 17193,\n",
       "         28723,    13, 28733,  1295,  3679, 28747,  3838,  9813,  6830,   973,\n",
       "           395,   264,  2724,   400,   301,   354,  3886,  5034,   304,   264,\n",
       "          4814,   302, 20327,   352, 28723,    13, 28733, 11559,  2420, 28747,\n",
       "          3301,   264, 11077, 28724, 27856,   895,   304,   264,  7232,   302,\n",
       "         21829, 18947,   354,   741,  4210,   972,   992, 28723,    13,    13,\n",
       "          2919,  7785, 19422,  2235, 28705, 28770, 28747,    13, 28733,  6611,\n",
       "         28747,   330, 21163, 28725,   550, 28733,   485,   606,  7646,   846,\n",
       "          4405,   297,   264, 14214, 10294,   737,  2687,   442,  3075, 28723,\n",
       "           851,   622, 19440, 11931,   574,  7280,  2187,   304,  2231,   264,\n",
       "          7767,   950,  2958, 11331,  3186, 28723,    13, 28733,   365,  3757,\n",
       "         28747,   330,   972,  1327, 13660, 24784,   297,   264, 13546,   440,\n",
       "          3181,   442,  1156,  1007,  5340, 28723,   851,   622, 12144,   574,\n",
       "          2967,  7969,   304,   967,   741,   746,   298,   272, 24842, 28723,\n",
       "            13, 28733,  1295,  3679, 28747,   318,  2465, 28706,   396, 16993,\n",
       "         15674,   395,   264,  1741,   400,   301,   298,   967,  5110,   304,\n",
       "          9087,   272, 13316,  2783, 10176,  2295,   363, 17193, 28723,    13,\n",
       "         28733, 11559,  2420, 28747,  3727,   789,   805,   272,   913,   395,\n",
       "           264,  6251,  7215, 22918,   304,   264,  3893,  2680,  6635,   354,\n",
       "           264,  4814,   302,  1272,   314,   423, 28723,    13,    13,  2919,\n",
       "          7785, 19422,  2235, 28705, 28781, 28747,    13, 28733,  6611, 28747,\n",
       "           330,  3890, 28724, 28725,  7950,  3641, 11459,  1830,   297,   264,\n",
       "         21273,   294,   442,   480, 14917, 28724, 10455, 28723,   851,   622,\n",
       "          3924,  4501,   298,   574,  7280,  2187,   304,   967,   264,  4814,\n",
       "           302, 14123,   291, 28723,    13, 28733,   365,  3757, 28747,  4556,\n",
       "         28733,  4985,  7134,  1457,   321, 27365,   395,   264, 18788,  4646,\n",
       "         28723,   851,   622,  7873,   575,   574, 12687,   594,   304,  1347,\n",
       "          2210,   574,  2967,  7969, 28723,    13, 28733,  1295,  3679, 28747,\n",
       "          5673, 14297,  8774,   354,   264, 13316,   304,  9156, 28724,   913,\n",
       "         28723,    13, 28733, 11559,  2420, 28747, 11559,   271,   653,   395,\n",
       "           741,  7463,   410,  8120, 26661,   304,   264,  7232,   302,  9026,\n",
       "         27856,  7835,   354,   264, 10535, 28733,  1435,  2783, 10176,  2295,\n",
       "          1601, 28723,    13,    13,  2919,  7785, 19422,  2235, 28705, 28782,\n",
       "         28747,    13, 28733,  6611, 28747,   330,  7767,  3443,   409, 28725,\n",
       "           408, 26545,   843,  1284,   297,   264,  2664,  2609,   301,  3181,\n",
       "           737,   843,  1426, 12937,   442, 20512,  5344, 28723,   851,   622,\n",
       "           967, 13426,   473,   972,   992,   304,  3924,  4501,  1753,   477,\n",
       "           574,  3889,  2187, 28723,    13, 28733,   365,  3757, 28747,   330,\n",
       "           972,  1327, 28725, 16229, 28733,  2143, 24784,   297,   264,   972,\n",
       "         10801,   442,   972, 10801, 28733,   262,   886,  1360,  2682, 28723,\n",
       "           851,   622,   967,  7531,   304,  6249,   298,   574, 24842, 28723,\n",
       "            13, 28733,  1295,  3679, 28747,  3838,  9813,  2724, 22822,   297,\n",
       "           264, 16696,   628,  3181,   298,   272,  1830, 28723,    13, 28733,\n",
       "         11559,  2420, 28747,  3301,   264, 21829,  7215, 22918,   304,   264,\n",
       "         27883,   297,   264,  9349,   288,  3181,   354,   264,  1160,  1497,\n",
       "           304, 20583,  7446, 28723,    13,     2]])"
      ]
     },
     "execution_count": 9,
     "metadata": {},
     "output_type": "execute_result"
    }
   ],
   "source": [
    "outputs"
   ]
  },
  {
   "cell_type": "code",
   "execution_count": 10,
   "id": "566dc3b6-6f17-445d-9bb7-48f31180e479",
   "metadata": {},
   "outputs": [
    {
     "data": {
      "text/plain": [
       "746"
      ]
     },
     "execution_count": 10,
     "metadata": {},
     "output_type": "execute_result"
    }
   ],
   "source": [
    "len(outputs[0])"
   ]
  },
  {
   "cell_type": "code",
   "execution_count": 11,
   "id": "4a140d85-21d9-4486-aa72-5ddaa6392e18",
   "metadata": {},
   "outputs": [],
   "source": [
    "# decode token ids to text\n",
    "outputs = outputs.detach().cpu().numpy()\n",
    "\n",
    "outputs = eval_tokenizer.batch_decode(outputs, skip_special_tokens=True)"
   ]
  },
  {
   "cell_type": "code",
   "execution_count": 12,
   "id": "fd52da2c-ec5e-42fd-ae77-d377bfa43ffc",
   "metadata": {},
   "outputs": [
    {
     "data": {
      "text/plain": [
       "[\"You are a personal stylist recommending fashion advice and clothing combinations. Use the self body and style description below, combined with the evert described in the context to generate 5 self-contained and complete outfit combinations.\\n### Input:\\nI'm a short, stocky woman with muscular calves and thighs. I like showing off my strong legs but need to balance my proportions on top.\\n### Context:\\nI'm going to a bachelorette / bachelor party.\\n### Response:\\nOutfit Combination 1:\\n- Top: A fitted, sleeveless crop top in a vibrant color like fuchsia or royal blue. This will draw attention to your upper body.\\n- Bottom: High-waisted black skinny jeans to accentuate your waist and create a streamlined look.\\n- Shoe: Black ankle strap heels to elongate your legs and add a touch of elegance.\\n- Accessories: Pair the outfit with some dangling earrings and a statement clutch in a complementary color.\\n\\nOutfit Combination 2:\\n- Top: A flowy, off-the-shoulder blouse in a fun pattern or bold print. This will create a visually balanced look.\\n- Bottom: High-waisted black wide-leg trousers to elongate your legs and give a more relaxed vibe.\\n- Shoe: Strappy sandals with a block heel for added comfort and a touch of sophistication.\\n- Accessories: Add a chunky bracelet and a stack of delicate rings for some extra flair.\\n\\nOutfit Combination 3:\\n- Top: A fitted, V-neck bodysuit in a neutral tone like black or white. This will accentuate your upper body and create a sleek silhouette.\\n- Bottom: A flared mini skirt in a vibrant color or playful pattern. This will highlight your strong legs and add some fun to the outfit.\\n- Shoe: Suede ankle boots with a small heel to add height and maintain the casual yet stylish vibe.\\n- Accessories: Finish off the look with a statement necklace and a crossbody bag for a touch of glamour.\\n\\nOutfit Combination 4:\\n- Top: A boxy, cropped tank top in a metallic or shimmery fabric. This will draw attention to your upper body and add a touch of sparkle.\\n- Bottom: High-waisted denim shorts with a relaxed fit. This will balance out your proportions and showcase your strong legs.\\n- Shoe: White sneakers for a casual and trendy look.\\n- Accessories: Accessorize with some hoop earrings and a stack of thin bracelets for a laid-back yet stylish feel.\\n\\nOutfit Combination 5:\\n- Top: A sleeveless, ruffled blouse in a soft pastel color like blush pink or mint green. This will add feminine flair and draw attention away from your lower body.\\n- Bottom: A flared, knee-length skirt in a floral or floral-inspired print. This will add volume and movement to your outfit.\\n- Shoe: Strappy block heels in a complementary color to the top.\\n- Accessories: Add a delicate necklace and a clutch in a contrasting color for a polished and elegant finish.\\n\"]"
      ]
     },
     "execution_count": 12,
     "metadata": {},
     "output_type": "execute_result"
    }
   ],
   "source": [
    "outputs"
   ]
  },
  {
   "cell_type": "code",
   "execution_count": 13,
   "id": "08c22223-3354-4989-8c4f-e1ce7b71eec1",
   "metadata": {},
   "outputs": [
    {
     "name": "stdout",
     "output_type": "stream",
     "text": [
      "Instruction: \n",
      "I'm a short, stocky woman with muscular calves and thighs. I like showing off my strong legs but need to balance my proportions on top.\n",
      "\n",
      "Context: \n",
      "I'm going to a bachelorette / bachelor party.\n",
      "\n",
      "Ground truth: \n",
      "Outfit Combination 1:\n",
      "- Top: A flowy, off-the-shoulder blouse in a bold color like royal blue or hot pink. The off-the-shoulder style will draw attention upward and balance your proportions.\n",
      "- Bottom: High-waisted, black leather leggings. The high-waisted cut will emphasize your waistline and flatter your figure, while the leather material adds a touch of edge to the outfit.\n",
      "- Shoe: Pair the outfit with black ankle boots with a chunky heel. The boots will elongate your legs while adding stability and comfort for a night of dancing.\n",
      "- Accessories: Add a statement necklace with colorful gemstones and a stack of silver bangle bracelets to further enhance the look.\n",
      "\n",
      "Outfit Combination 2:\n",
      "- Top: A fitted, black bodysuit with a plunging V-neckline. The fitted style will accentuate your curves and the deep V-neckline will draw attention upward and elongate your torso.\n",
      "- Bottom: A high-waisted, a-line skirt in a bold floral print. The high-waisted silhouette will cinch in your waist and the a-line shape will flatter your legs while providing movement and comfort.\n",
      "- Shoe: Opt for nude strappy sandals with a low block heel. The nude color will create the illusion of longer legs, while the low block heel will give you added height and stability.\n",
      "- Accessories: Complete the outfit with a wide-brimmed black hat and a layered gold necklace for a playful and chic touch.\n",
      "\n",
      "Outfit Combination 3:\n",
      "- Top: A tailored, cropped blazer in a neutral color like beige or gray. The cropped length will create the illusion of a longer torso, while the tailored fit will accentuate your curves.\n",
      "- Bottom: Dark wash, high-waisted skinny jeans. The high-waisted style will accentuate your waistline, while the skinny fit will showcase your toned legs.\n",
      "- Shoe: Choose a pair of black pointed-toe pumps. The pointed-toe design will elongate your legs and add a touch of sophistication to the outfit.\n",
      "- Accessories: Add a statement belt in a metallic color like gold or silver to cinch in your waist. Finish off the look with minimalistic stud earrings and a structured clutch in a complementary color.\n",
      "\n",
      "Outfit Combination 4:\n",
      "- Top: A fitted, sleeveless turtleneck in a bright color like fuchsia or emerald green. The turtleneck will elongate your neck and the fitted style will show off your toned arms.\n",
      "- Bottom: Wide-legged, high-waisted trousers in a neutral color like black or navy blue. The wide-legged silhouette will balance your proportions and create the illusion of longer legs.\n",
      "- Shoe: Opt for black platform heels. The platform heel will add height and elongate your legs without sacrificing comfort.\n",
      "- Accessories: Accessorize with oversized hoop earrings in silver or gold and a chunky cocktail ring. Add a structured clutch in a contrasting color to complete the look.\n",
      "\n",
      "Outfit Combination 5:\n",
      "- Top: A fitted, off-the-shoulder lace top in a pastel color like blush pink or lavender. The off-the-shoulder style will draw attention to your upper body and balance your proportions.\n",
      "- Bottom: High-waisted, pleated midi skirt in a metallic fabric like silver or gold. The pleated skirt will add movement and dimension to the outfit while flattering your legs.\n",
      "- Shoe: Pair the outfit with metallic strappy heels. The metallic color will complement the skirt and add a touch of glamour to the look.\n",
      "- Accessories: Complete the outfit with delicate drop earrings and a stack of dainty bracelets. Carry a small metallic clutch to match the skirt and add a final polished touch.\n",
      "\n",
      "Generated output: \n",
      "Outfit Combination 1:\n",
      "- Top: A fitted, sleeveless crop top in a vibrant color like fuchsia or royal blue. This will draw attention to your upper body.\n",
      "- Bottom: High-waisted black skinny jeans to accentuate your waist and create a streamlined look.\n",
      "- Shoe: Black ankle strap heels to elongate your legs and add a touch of elegance.\n",
      "- Accessories: Pair the outfit with some dangling earrings and a statement clutch in a complementary color.\n",
      "\n",
      "Outfit Combination 2:\n",
      "- Top: A flowy, off-the-shoulder blouse in a fun pattern or bold print. This will create a visually balanced look.\n",
      "- Bottom: High-waisted black wide-leg trousers to elongate your legs and give a more relaxed vibe.\n",
      "- Shoe: Strappy sandals with a block heel for added comfort and a touch of sophistication.\n",
      "- Accessories: Add a chunky bracelet and a stack of delicate rings for some extra flair.\n",
      "\n",
      "Outfit Combination 3:\n",
      "- Top: A fitted, V-neck bodysuit in a neutral tone like black or white. This will accentuate your upper body and create a sleek silhouette.\n",
      "- Bottom: A flared mini skirt in a vibrant color or playful pattern. This will highlight your strong legs and add some fun to the outfit.\n",
      "- Shoe: Suede ankle boots with a small heel to add height and maintain the casual yet stylish vibe.\n",
      "- Accessories: Finish off the look with a statement necklace and a crossbody bag for a touch of glamour.\n",
      "\n",
      "Outfit Combination 4:\n",
      "- Top: A boxy, cropped tank top in a metallic or shimmery fabric. This will draw attention to your upper body and add a touch of sparkle.\n",
      "- Bottom: High-waisted denim shorts with a relaxed fit. This will balance out your proportions and showcase your strong legs.\n",
      "- Shoe: White sneakers for a casual and trendy look.\n",
      "- Accessories: Accessorize with some hoop earrings and a stack of thin bracelets for a laid-back yet stylish feel.\n",
      "\n",
      "Outfit Combination 5:\n",
      "- Top: A sleeveless, ruffled blouse in a soft pastel color like blush pink or mint green. This will add feminine flair and draw attention away from your lower body.\n",
      "- Bottom: A flared, knee-length skirt in a floral or floral-inspired print. This will add volume and movement to your outfit.\n",
      "- Shoe: Strappy block heels in a complementary color to the top.\n",
      "- Accessories: Add a delicate necklace and a clutch in a contrasting color for a polished and elegant finish.\n",
      "\n",
      "\n",
      "\n",
      "\n"
     ]
    }
   ],
   "source": [
    "output = outputs[0][len(prompt):]\n",
    "\n",
    "print(f\"Instruction: \\n{sample['input']}\\n\") \n",
    "print(f\"Context: \\n{sample['context']}\\n\" ) \n",
    "print(f\"Ground truth: \\n{sample['completion']}\\n\") \n",
    "print(f\"Generated output: \\n{output}\\n\\n\\n\")"
   ]
  },
  {
   "cell_type": "code",
   "execution_count": null,
   "id": "376edf3a-646e-4e9b-a58b-658b6ee4ac7b",
   "metadata": {},
   "outputs": [],
   "source": []
  }
 ],
 "metadata": {
  "kernelspec": {
   "display_name": "Python 3 (ipykernel)",
   "language": "python",
   "name": "python3"
  },
  "language_info": {
   "codemirror_mode": {
    "name": "ipython",
    "version": 3
   },
   "file_extension": ".py",
   "mimetype": "text/x-python",
   "name": "python",
   "nbconvert_exporter": "python",
   "pygments_lexer": "ipython3",
   "version": "3.10.13"
  }
 },
 "nbformat": 4,
 "nbformat_minor": 5
}
